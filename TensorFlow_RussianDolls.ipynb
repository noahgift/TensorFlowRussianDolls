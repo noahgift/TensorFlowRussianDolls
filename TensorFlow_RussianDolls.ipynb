{
  "nbformat": 4,
  "nbformat_minor": 0,
  "metadata": {
    "colab": {
      "name": "TensorFlow-RussianDolls.ipynb",
      "version": "0.3.2",
      "provenance": [],
      "collapsed_sections": [
        "1ilOvhjA3xS1",
        "WguU1NgEsCL6",
        "DskmJEsu8xdX",
        "QDDm6TsK34PC",
        "ItXfxkxvosLH",
        "NvoiEwiAWrWy",
        "Aa-KnZKcfvkV",
        "yVLSSAUViyiX",
        "W3G5sZ3yo-yK",
        "ggjuE4es7SDH"
      ],
      "include_colab_link": true
    },
    "kernelspec": {
      "name": "python3",
      "display_name": "Python 3"
    },
    "accelerator": "TPU"
  },
  "cells": [
    {
      "cell_type": "markdown",
      "metadata": {
        "id": "view-in-github",
        "colab_type": "text"
      },
      "source": [
        "<a href=\"https://colab.research.google.com/github/noahgift/TensorFlowRussianDolls/blob/master/TensorFlow_RussianDolls.ipynb\" target=\"_parent\"><img src=\"https://colab.research.google.com/assets/colab-badge.svg\" alt=\"Open In Colab\"/></a>"
      ]
    },
    {
      "metadata": {
        "id": "dRxWhH0g3tKF",
        "colab_type": "text"
      },
      "cell_type": "markdown",
      "source": [
        "# TensorFlow Russian Dolls\n",
        "\n",
        "\n"
      ]
    },
    {
      "metadata": {
        "id": "EggdJbEp6Pak",
        "colab_type": "text"
      },
      "cell_type": "markdown",
      "source": [
        "![wikipedia_commons](https://upload.wikimedia.org/wikipedia/commons/thumb/0/0a/Russian_Dolls.jpg/640px-Russian_Dolls.jpg)\n",
        "\n",
        "[*source:  wikipedia*](https://upload.wikimedia.org/wikipedia/commons/thumb/0/0a/Russian_Dolls.jpg/640px-Russian_Dolls.jpg)"
      ]
    },
    {
      "metadata": {
        "id": "g5uaujBRJ7Z9",
        "colab_type": "text"
      },
      "cell_type": "markdown",
      "source": [
        "A *crash course* involving several layers of abstraction with [TensorFlow](https://www.tensorflow.org/)"
      ]
    },
    {
      "metadata": {
        "id": "1ilOvhjA3xS1",
        "colab_type": "text"
      },
      "cell_type": "markdown",
      "source": [
        "## TensorFlow"
      ]
    },
    {
      "metadata": {
        "colab_type": "text",
        "id": "WguU1NgEsCL6"
      },
      "cell_type": "markdown",
      "source": [
        "### TensorFlow Hello World"
      ]
    },
    {
      "metadata": {
        "id": "oDpT_ks65v4J",
        "colab_type": "text"
      },
      "cell_type": "markdown",
      "source": [
        "References\n",
        "\n",
        "*  [Official Hello World Example]( https://colab.research.google.com/notebooks/welcome.ipynb#scrollTo=oYZkU7ZN3CL0)\n",
        "*  Adds two matrices\n"
      ]
    },
    {
      "metadata": {
        "id": "5iX0wEVI6t49",
        "colab_type": "code",
        "outputId": "f0c90b85-309a-456e-bfba-9ade12b57e7b",
        "colab": {
          "base_uri": "https://localhost:8080/"
        }
      },
      "cell_type": "code",
      "source": [
        "import tensorflow as tf\n",
        "input1 = tf.ones((2, 3))\n",
        "input2 = tf.reshape(tf.range(1, 7, dtype=tf.float32), (2, 3))\n",
        "\n",
        "print(\"Two Tensor Flow Matrices with shape:\")\n",
        "print(input1.shape)\n",
        "print(input2.shape)"
      ],
      "execution_count": 0,
      "outputs": [
        {
          "output_type": "stream",
          "text": [
            "Two Tensor Flow Matrices with shape:\n",
            "(2, 3)\n",
            "(2, 3)\n"
          ],
          "name": "stdout"
        }
      ]
    },
    {
      "metadata": {
        "id": "afyOLD6p5l3_",
        "colab_type": "code",
        "outputId": "de7ba70a-3bf3-4d2b-f25b-867674ad4857",
        "colab": {
          "base_uri": "https://localhost:8080/"
        }
      },
      "cell_type": "code",
      "source": [
        "output = input1 + input2\n",
        "with tf.Session():\n",
        "  result = output.eval()\n",
        "\n",
        "print(f\"Type of result:  {type(result)}\\n\")\n",
        "print(\"Result of addition of two Matrics:\")\n",
        "result\n"
      ],
      "execution_count": 0,
      "outputs": [
        {
          "output_type": "stream",
          "text": [
            "Type of result:  <class 'numpy.ndarray'>\n",
            "\n",
            "Result of addition of two Matrics:\n"
          ],
          "name": "stdout"
        },
        {
          "output_type": "execute_result",
          "data": {
            "text/plain": [
              "array([[2., 3., 4.],\n",
              "       [5., 6., 7.]], dtype=float32)"
            ]
          },
          "metadata": {
            "tags": []
          },
          "execution_count": 2
        }
      ]
    },
    {
      "metadata": {
        "id": "DskmJEsu8xdX",
        "colab_type": "text"
      },
      "cell_type": "markdown",
      "source": [
        "### Enable TPU Support in Colab"
      ]
    },
    {
      "metadata": {
        "id": "rrWQ83Cd81dN",
        "colab_type": "text"
      },
      "cell_type": "markdown",
      "source": [
        "![TPU](https://user-images.githubusercontent.com/58792/53053297-d14f2400-3455-11e9-836d-3857de1f4337.png)"
      ]
    },
    {
      "metadata": {
        "id": "QDDm6TsK34PC",
        "colab_type": "text"
      },
      "cell_type": "markdown",
      "source": [
        "## Keras"
      ]
    },
    {
      "metadata": {
        "id": "ItXfxkxvosLH",
        "colab_type": "text"
      },
      "cell_type": "markdown",
      "source": [
        "### Text classification with movie reviews (Project)"
      ]
    },
    {
      "metadata": {
        "id": "hKY4XMc9o8iB",
        "colab_type": "text"
      },
      "cell_type": "markdown",
      "source": [
        "*Modified based on this tutorial: * https://research.google.com/seedbank/seed/classify_movie_reviews_using_tfkeras\n",
        "\n",
        "<table class=\"tfo-notebook-buttons\" align=\"left\">\n",
        "  <td>\n",
        "    <a target=\"_blank\" href=\"https://www.tensorflow.org/tutorials/keras/basic_text_classification\"><img src=\"https://www.tensorflow.org/images/tf_logo_32px.png\" />View on TensorFlow.org</a>\n",
        "  </td>\n",
        "  <td>\n",
        "    <a target=\"_blank\" href=\"https://colab.research.google.com/github/tensorflow/docs/blob/master/site/en/tutorials/keras/basic_text_classification.ipynb\"><img src=\"https://www.tensorflow.org/images/colab_logo_32px.png\" />Run in Google Colab</a>\n",
        "  </td>\n",
        "  <td>\n",
        "    <a target=\"_blank\" href=\"https://github.com/tensorflow/docs/blob/master/site/en/tutorials/keras/basic_text_classification.ipynb\"><img src=\"https://www.tensorflow.org/images/GitHub-Mark-32px.png\" />View source on GitHub</a>\n",
        "  </td>\n",
        "</table>"
      ]
    },
    {
      "metadata": {
        "id": "Eg62Pmz3o83v",
        "colab_type": "text"
      },
      "cell_type": "markdown",
      "source": [
        "\n",
        "This notebook classifies movie reviews as *positive* or *negative* using the text of the review. This is an example of *binary*—or two-class—classification, an important and widely applicable kind of machine learning problem. \n",
        "\n",
        "We'll use the [IMDB dataset](https://www.tensorflow.org/api_docs/python/tf/keras/datasets/imdb) that contains the text of 50,000 movie reviews from the [Internet Movie Database](https://www.imdb.com/). These are split into 25,000 reviews for training and 25,000 reviews for testing. The training and testing sets are *balanced*, meaning they contain an equal number of positive and negative reviews. \n",
        "\n",
        "This notebook uses [tf.keras](https://www.tensorflow.org/guide/keras), a high-level API to build and train models in TensorFlow. For a more advanced text classification tutorial using `tf.keras`, see the [MLCC Text Classification Guide](https://developers.google.com/machine-learning/guides/text-classification/)."
      ]
    },
    {
      "metadata": {
        "id": "2ew7HTbPpCJH",
        "colab_type": "code",
        "outputId": "2aba4140-9619-4438-8efd-bc8ae9b77529",
        "colab": {
          "base_uri": "https://localhost:8080/",
          "height": 34
        }
      },
      "cell_type": "code",
      "source": [
        "from __future__ import absolute_import, division, print_function\n",
        "\n",
        "import tensorflow as tf\n",
        "from tensorflow import keras\n",
        "\n",
        "import numpy as np\n",
        "\n",
        "print(tf.__version__)"
      ],
      "execution_count": 0,
      "outputs": [
        {
          "output_type": "stream",
          "text": [
            "1.13.0-rc1\n"
          ],
          "name": "stdout"
        }
      ]
    },
    {
      "metadata": {
        "id": "zZ8c25ug_FTf",
        "colab_type": "text"
      },
      "cell_type": "markdown",
      "source": [
        "#### Ingest"
      ]
    },
    {
      "metadata": {
        "id": "iAsKG535pHep",
        "colab_type": "text"
      },
      "cell_type": "markdown",
      "source": [
        "##### Download the IMDB dataset\n",
        "\n",
        "The IMDB dataset comes packaged with TensorFlow. It has already been preprocessed such that the reviews (sequences of words) have been converted to sequences of integers, where each integer represents a specific word in a dictionary.\n",
        "\n",
        "The following code downloads the IMDB dataset to your machine (or uses a cached copy if you've already downloaded it):"
      ]
    },
    {
      "metadata": {
        "id": "zXXx5Oc3pOmN",
        "colab_type": "code",
        "colab": {}
      },
      "cell_type": "code",
      "source": [
        "imdb = keras.datasets.imdb\n",
        "\n",
        "(train_data, train_labels), (test_data, test_labels) = imdb.load_data(num_words=10000)"
      ],
      "execution_count": 0,
      "outputs": []
    },
    {
      "metadata": {
        "id": "odr-KlzO-lkL",
        "colab_type": "text"
      },
      "cell_type": "markdown",
      "source": [
        "The argument `num_words=10000` keeps the top 10,000 most frequently occurring words in the training data. The rare words are discarded to keep the size of the data manageable."
      ]
    },
    {
      "metadata": {
        "id": "l50X3GfjpU4r",
        "colab_type": "text"
      },
      "cell_type": "markdown",
      "source": [
        "#### Explore the data (EDA)\n",
        "\n",
        "Let's take a moment to understand the format of the data. The dataset comes preprocessed: each example is an array of integers representing the words of the movie review. Each label is an integer value of either 0 or 1, where 0 is a negative review, and 1 is a positive review."
      ]
    },
    {
      "metadata": {
        "id": "y8qCnve_-lkO",
        "colab_type": "code",
        "outputId": "93ecfc37-3aea-411c-e047-833149f775b5",
        "colab": {
          "base_uri": "https://localhost:8080/"
        }
      },
      "cell_type": "code",
      "source": [
        "print(\"Training entries: {}, labels: {}\".format(len(train_data), len(train_labels)))"
      ],
      "execution_count": 0,
      "outputs": [
        {
          "output_type": "stream",
          "text": [
            "Training entries: 25000, labels: 25000\n"
          ],
          "name": "stdout"
        }
      ]
    },
    {
      "metadata": {
        "id": "RnKvHWW4-lkW",
        "colab_type": "text"
      },
      "cell_type": "markdown",
      "source": [
        "The text of reviews have been converted to integers, where each integer represents a specific word in a dictionary. Here's what the first review looks like:"
      ]
    },
    {
      "metadata": {
        "id": "QtTS4kpEpjbi",
        "colab_type": "code",
        "outputId": "5326cadb-a7bc-443d-c0f2-eac74b325007",
        "colab": {
          "base_uri": "https://localhost:8080/"
        }
      },
      "cell_type": "code",
      "source": [
        "print(train_data[0])"
      ],
      "execution_count": 0,
      "outputs": [
        {
          "output_type": "stream",
          "text": [
            "[1, 14, 22, 16, 43, 530, 973, 1622, 1385, 65, 458, 4468, 66, 3941, 4, 173, 36, 256, 5, 25, 100, 43, 838, 112, 50, 670, 2, 9, 35, 480, 284, 5, 150, 4, 172, 112, 167, 2, 336, 385, 39, 4, 172, 4536, 1111, 17, 546, 38, 13, 447, 4, 192, 50, 16, 6, 147, 2025, 19, 14, 22, 4, 1920, 4613, 469, 4, 22, 71, 87, 12, 16, 43, 530, 38, 76, 15, 13, 1247, 4, 22, 17, 515, 17, 12, 16, 626, 18, 2, 5, 62, 386, 12, 8, 316, 8, 106, 5, 4, 2223, 5244, 16, 480, 66, 3785, 33, 4, 130, 12, 16, 38, 619, 5, 25, 124, 51, 36, 135, 48, 25, 1415, 33, 6, 22, 12, 215, 28, 77, 52, 5, 14, 407, 16, 82, 2, 8, 4, 107, 117, 5952, 15, 256, 4, 2, 7, 3766, 5, 723, 36, 71, 43, 530, 476, 26, 400, 317, 46, 7, 4, 2, 1029, 13, 104, 88, 4, 381, 15, 297, 98, 32, 2071, 56, 26, 141, 6, 194, 7486, 18, 4, 226, 22, 21, 134, 476, 26, 480, 5, 144, 30, 5535, 18, 51, 36, 28, 224, 92, 25, 104, 4, 226, 65, 16, 38, 1334, 88, 12, 16, 283, 5, 16, 4472, 113, 103, 32, 15, 16, 5345, 19, 178, 32]\n"
          ],
          "name": "stdout"
        }
      ]
    },
    {
      "metadata": {
        "id": "hIE4l_72x7DP",
        "colab_type": "text"
      },
      "cell_type": "markdown",
      "source": [
        "Movie reviews may be different lengths. The below code shows the number of words in the first and second reviews. Since inputs to a neural network must be the same length, we'll need to resolve this later."
      ]
    },
    {
      "metadata": {
        "id": "X-6Ii9Pfx6Nr",
        "colab_type": "code",
        "outputId": "f1759641-c8c9-4697-b239-55f7c5661fca",
        "colab": {
          "base_uri": "https://localhost:8080/"
        }
      },
      "cell_type": "code",
      "source": [
        "len(train_data[0]), len(train_data[1])"
      ],
      "execution_count": 0,
      "outputs": [
        {
          "output_type": "execute_result",
          "data": {
            "text/plain": [
              "(218, 189)"
            ]
          },
          "metadata": {
            "tags": []
          },
          "execution_count": 7
        }
      ]
    },
    {
      "metadata": {
        "id": "4wJg2FiYpuoX",
        "colab_type": "text"
      },
      "cell_type": "markdown",
      "source": [
        "##### Convert the integers back to words\n",
        "\n",
        "It may be useful to know how to convert integers back to text. Here, we'll create a helper function to query a dictionary object that contains the integer to string mapping:"
      ]
    },
    {
      "metadata": {
        "id": "tr5s_1alpzop",
        "colab_type": "code",
        "colab": {}
      },
      "cell_type": "code",
      "source": [
        "# A dictionary mapping words to an integer index\n",
        "word_index = imdb.get_word_index()\n",
        "\n",
        "# The first indices are reserved\n",
        "word_index = {k:(v+3) for k,v in word_index.items()} \n",
        "word_index[\"<PAD>\"] = 0\n",
        "word_index[\"<START>\"] = 1\n",
        "word_index[\"<UNK>\"] = 2  # unknown\n",
        "word_index[\"<UNUSED>\"] = 3\n",
        "\n",
        "reverse_word_index = dict([(value, key) for (key, value) in word_index.items()])\n",
        "\n",
        "def decode_review(text):\n",
        "    return ' '.join([reverse_word_index.get(i, '?') for i in text])"
      ],
      "execution_count": 0,
      "outputs": []
    },
    {
      "metadata": {
        "id": "U3CNRvEZVppl",
        "colab_type": "text"
      },
      "cell_type": "markdown",
      "source": [
        "Now we can use the `decode_review` function to display the text for the first review:"
      ]
    },
    {
      "metadata": {
        "id": "s_OqxmH6-lkn",
        "colab_type": "code",
        "outputId": "f3bae642-91e0-45a8-9c84-5b9dfba0d7bb",
        "colab": {
          "base_uri": "https://localhost:8080/"
        }
      },
      "cell_type": "code",
      "source": [
        "decode_review(train_data[0])"
      ],
      "execution_count": 0,
      "outputs": [
        {
          "output_type": "execute_result",
          "data": {
            "text/plain": [
              "\"<START> this film was just brilliant casting location scenery story direction everyone's really suited the part they played and you could just imagine being there robert <UNK> is an amazing actor and now the same being director <UNK> father came from the same scottish island as myself so i loved the fact there was a real connection with this film the witty remarks throughout the film were great it was just brilliant so much that i bought the film as soon as it was released for <UNK> and would recommend it to everyone to watch and the fly fishing was amazing really cried at the end it was so sad and you know what they say if you cry at a film it must have been good and this definitely was also <UNK> to the two little boy's that played the <UNK> of norman and paul they were just brilliant children are often left out of the <UNK> list i think because the stars that play them all grown up are such a big profile for the whole film but these children are amazing and should be praised for what they have done don't you think the whole story was so lovely because it was true and was someone's life after all that was shared with us all\""
            ]
          },
          "metadata": {
            "tags": []
          },
          "execution_count": 9
        }
      ]
    },
    {
      "metadata": {
        "id": "lFP_XKVRp4_S",
        "colab_type": "text"
      },
      "cell_type": "markdown",
      "source": [
        "##### Prepare the data\n",
        "\n",
        "The reviews—the arrays of integers—must be converted to tensors before fed into the neural network. This conversion can be done a couple of ways:\n",
        "\n",
        "* Convert the arrays into vectors of 0s and 1s indicating word occurrence, similar to a one-hot encoding. For example, the sequence  [3, 5] would become a 10,000-dimensional vector that is all zeros except for indices 3 and 5, which are ones. Then, make this the first layer in our network—a Dense layer—that can handle floating point vector data. This approach is memory intensive, though, requiring a `num_words * num_reviews` size matrix.\n",
        "\n",
        "* Alternatively, we can pad the arrays so they all have the same length, then create an integer tensor of shape `max_length * num_reviews`. We can use an embedding layer capable of handling this shape as the first layer in our network.\n",
        "\n",
        "In this tutorial, we will use the second approach. \n",
        "\n",
        "Since the movie reviews must be the same length, we will use the [pad_sequences](https://www.tensorflow.org/api_docs/python/tf/keras/preprocessing/sequence/pad_sequences) function to standardize the lengths:"
      ]
    },
    {
      "metadata": {
        "id": "2jQv-omsHurp",
        "colab_type": "code",
        "colab": {}
      },
      "cell_type": "code",
      "source": [
        "train_data = keras.preprocessing.sequence.pad_sequences(train_data,\n",
        "                                                        value=word_index[\"<PAD>\"],\n",
        "                                                        padding='post',\n",
        "                                                        maxlen=256)\n",
        "\n",
        "test_data = keras.preprocessing.sequence.pad_sequences(test_data,\n",
        "                                                       value=word_index[\"<PAD>\"],\n",
        "                                                       padding='post',\n",
        "                                                       maxlen=256)"
      ],
      "execution_count": 0,
      "outputs": []
    },
    {
      "metadata": {
        "id": "VO5MBpyQdipD",
        "colab_type": "text"
      },
      "cell_type": "markdown",
      "source": [
        "Let's look at the length of the examples now:"
      ]
    },
    {
      "metadata": {
        "id": "USSSBnkE-lky",
        "colab_type": "code",
        "outputId": "73c95e4e-a3a8-48f8-f6d4-4e8a53900208",
        "colab": {
          "base_uri": "https://localhost:8080/"
        }
      },
      "cell_type": "code",
      "source": [
        "len(train_data[0]), len(train_data[1])"
      ],
      "execution_count": 0,
      "outputs": [
        {
          "output_type": "execute_result",
          "data": {
            "text/plain": [
              "(256, 256)"
            ]
          },
          "metadata": {
            "tags": []
          },
          "execution_count": 11
        }
      ]
    },
    {
      "metadata": {
        "id": "QJoxZGyfjT5V",
        "colab_type": "text"
      },
      "cell_type": "markdown",
      "source": [
        "And inspect the (now padded) first review:"
      ]
    },
    {
      "metadata": {
        "id": "TG8X9cqi-lk9",
        "colab_type": "code",
        "outputId": "875c097c-5e49-49ed-bdba-5a1566dd9c94",
        "colab": {
          "base_uri": "https://localhost:8080/"
        }
      },
      "cell_type": "code",
      "source": [
        "print(train_data[0])"
      ],
      "execution_count": 0,
      "outputs": [
        {
          "output_type": "stream",
          "text": [
            "[   1   14   22   16   43  530  973 1622 1385   65  458 4468   66 3941\n",
            "    4  173   36  256    5   25  100   43  838  112   50  670    2    9\n",
            "   35  480  284    5  150    4  172  112  167    2  336  385   39    4\n",
            "  172 4536 1111   17  546   38   13  447    4  192   50   16    6  147\n",
            " 2025   19   14   22    4 1920 4613  469    4   22   71   87   12   16\n",
            "   43  530   38   76   15   13 1247    4   22   17  515   17   12   16\n",
            "  626   18    2    5   62  386   12    8  316    8  106    5    4 2223\n",
            " 5244   16  480   66 3785   33    4  130   12   16   38  619    5   25\n",
            "  124   51   36  135   48   25 1415   33    6   22   12  215   28   77\n",
            "   52    5   14  407   16   82    2    8    4  107  117 5952   15  256\n",
            "    4    2    7 3766    5  723   36   71   43  530  476   26  400  317\n",
            "   46    7    4    2 1029   13  104   88    4  381   15  297   98   32\n",
            " 2071   56   26  141    6  194 7486   18    4  226   22   21  134  476\n",
            "   26  480    5  144   30 5535   18   51   36   28  224   92   25  104\n",
            "    4  226   65   16   38 1334   88   12   16  283    5   16 4472  113\n",
            "  103   32   15   16 5345   19  178   32    0    0    0    0    0    0\n",
            "    0    0    0    0    0    0    0    0    0    0    0    0    0    0\n",
            "    0    0    0    0    0    0    0    0    0    0    0    0    0    0\n",
            "    0    0    0    0]\n"
          ],
          "name": "stdout"
        }
      ]
    },
    {
      "metadata": {
        "id": "LLC02j2g-llC",
        "colab_type": "text"
      },
      "cell_type": "markdown",
      "source": [
        "#### Modeling\n",
        "\n",
        "The neural network is created by stacking layers—this requires two main architectural decisions:\n",
        "\n",
        "* How many layers to use in the model?\n",
        "* How many *hidden units* to use for each layer?\n",
        "\n",
        "In this example, the input data consists of an array of word-indices. The labels to predict are either 0 or 1. Let's build a model for this problem:"
      ]
    },
    {
      "metadata": {
        "id": "xpKOoWgu-llD",
        "colab_type": "code",
        "outputId": "98611538-0b48-4473-8338-b1e77e03adde",
        "colab": {
          "base_uri": "https://localhost:8080/"
        }
      },
      "cell_type": "code",
      "source": [
        "# input shape is the vocabulary count used for the movie reviews (10,000 words)\n",
        "vocab_size = 10000\n",
        "\n",
        "model = keras.Sequential()\n",
        "model.add(keras.layers.Embedding(vocab_size, 16))\n",
        "model.add(keras.layers.GlobalAveragePooling1D())\n",
        "model.add(keras.layers.Dense(16, activation=tf.nn.relu))\n",
        "model.add(keras.layers.Dense(1, activation=tf.nn.sigmoid))\n",
        "\n",
        "model.summary()"
      ],
      "execution_count": 0,
      "outputs": [
        {
          "output_type": "stream",
          "text": [
            "WARNING:tensorflow:From /usr/local/lib/python3.6/dist-packages/tensorflow/python/ops/resource_variable_ops.py:435: colocate_with (from tensorflow.python.framework.ops) is deprecated and will be removed in a future version.\n",
            "Instructions for updating:\n",
            "Colocations handled automatically by placer.\n",
            "_________________________________________________________________\n",
            "Layer (type)                 Output Shape              Param #   \n",
            "=================================================================\n",
            "embedding (Embedding)        (None, None, 16)          160000    \n",
            "_________________________________________________________________\n",
            "global_average_pooling1d (Gl (None, 16)                0         \n",
            "_________________________________________________________________\n",
            "dense (Dense)                (None, 16)                272       \n",
            "_________________________________________________________________\n",
            "dense_1 (Dense)              (None, 1)                 17        \n",
            "=================================================================\n",
            "Total params: 160,289\n",
            "Trainable params: 160,289\n",
            "Non-trainable params: 0\n",
            "_________________________________________________________________\n"
          ],
          "name": "stdout"
        }
      ]
    },
    {
      "metadata": {
        "id": "6PbKQ6mucuKL",
        "colab_type": "text"
      },
      "cell_type": "markdown",
      "source": [
        "The layers are stacked sequentially to build the classifier:\n",
        "\n",
        "1. The first layer is an `Embedding` layer. This layer takes the integer-encoded vocabulary and looks up the embedding vector for each word-index. These vectors are learned as the model trains. The vectors add a dimension to the output array. The resulting dimensions are: `(batch, sequence, embedding)`.\n",
        "2. Next, a `GlobalAveragePooling1D` layer returns a fixed-length output vector for each example by averaging over the sequence dimension. This allows the model to handle input of variable length, in the simplest way possible.\n",
        "3. This fixed-length output vector is piped through a fully-connected (`Dense`) layer with 16 hidden units.\n",
        "4. The last layer is densely connected with a single output node. Using the `sigmoid` activation function, this value is a float between 0 and 1, representing a probability, or confidence level."
      ]
    },
    {
      "metadata": {
        "id": "Bn9ukmAb_pKE",
        "colab_type": "text"
      },
      "cell_type": "markdown",
      "source": [
        "##### Hidden units"
      ]
    },
    {
      "metadata": {
        "id": "0XMwnDOp-llH",
        "colab_type": "text"
      },
      "cell_type": "markdown",
      "source": [
        "\n",
        "\n",
        "The above model has two intermediate or \"hidden\" layers, between the input and output. The number of outputs (units, nodes, or neurons) is the dimension of the representational space for the layer. In other words, the amount of freedom the network is allowed when learning an internal representation.\n",
        "\n",
        "If a model has more hidden units (a higher-dimensional representation space), and/or more layers, then the network can learn more complex representations. However, it makes the network more computationally expensive and may lead to learning unwanted patterns—patterns that improve performance on training data but not on the test data. This is called *overfitting*, and we'll explore it later."
      ]
    },
    {
      "metadata": {
        "id": "L4EqVWg4-llM",
        "colab_type": "text"
      },
      "cell_type": "markdown",
      "source": [
        "##### Loss function and optimizer\n",
        "\n",
        "A model needs a loss function and an optimizer for training. Since this is a binary classification problem and the model outputs a probability (a single-unit layer with a sigmoid activation), we'll use the `binary_crossentropy` loss function. \n",
        "\n",
        "This isn't the only choice for a loss function, you could, for instance, choose `mean_squared_error`. But, generally, `binary_crossentropy` is better for dealing with probabilities—it measures the \"distance\" between probability distributions, or in our case, between the ground-truth distribution and the predictions.\n",
        "\n",
        "Later, when we are exploring regression problems (say, to predict the price of a house), we will see how to use another loss function called mean squared error.\n",
        "\n",
        "Now, configure the model to use an optimizer and a loss function:"
      ]
    },
    {
      "metadata": {
        "id": "Mr0GP-cQ-llN",
        "colab_type": "code",
        "colab": {}
      },
      "cell_type": "code",
      "source": [
        "model.compile(optimizer='adam',\n",
        "              loss='binary_crossentropy',\n",
        "              metrics=['accuracy'])"
      ],
      "execution_count": 0,
      "outputs": []
    },
    {
      "metadata": {
        "id": "hCWYwkug-llQ",
        "colab_type": "text"
      },
      "cell_type": "markdown",
      "source": [
        "##### Create a validation set\n",
        "\n",
        "When training, we want to check the accuracy of the model on data it hasn't seen before. Create a *validation set* by setting apart 10,000 examples from the original training data. (Why not use the testing set now? Our goal is to develop and tune our model using only the training data, then use the test data just once to evaluate our accuracy)."
      ]
    },
    {
      "metadata": {
        "id": "-NpcXY9--llS",
        "colab_type": "code",
        "colab": {}
      },
      "cell_type": "code",
      "source": [
        "x_val = train_data[:10000]\n",
        "partial_x_train = train_data[10000:]\n",
        "\n",
        "y_val = train_labels[:10000]\n",
        "partial_y_train = train_labels[10000:]"
      ],
      "execution_count": 0,
      "outputs": []
    },
    {
      "metadata": {
        "id": "35jv_fzP-llU",
        "colab_type": "text"
      },
      "cell_type": "markdown",
      "source": [
        "##### Train the model\n",
        "\n",
        "Train the model for 40 epochs in mini-batches of 512 samples. This is 40 iterations over all samples in the `x_train` and `y_train` tensors. While training, monitor the model's loss and accuracy on the 10,000 samples from the validation set:"
      ]
    },
    {
      "metadata": {
        "id": "tXSGrjWZ-llW",
        "colab_type": "code",
        "outputId": "362eb02e-70f6-4b58-9216-9d9fecd81308",
        "colab": {
          "base_uri": "https://localhost:8080/"
        }
      },
      "cell_type": "code",
      "source": [
        "history = model.fit(partial_x_train,\n",
        "                    partial_y_train,\n",
        "                    epochs=40,\n",
        "                    batch_size=512,\n",
        "                    validation_data=(x_val, y_val),\n",
        "                    verbose=1)"
      ],
      "execution_count": 0,
      "outputs": [
        {
          "output_type": "stream",
          "text": [
            "Train on 15000 samples, validate on 10000 samples\n",
            "WARNING:tensorflow:From /usr/local/lib/python3.6/dist-packages/tensorflow/python/ops/math_ops.py:3066: to_int32 (from tensorflow.python.ops.math_ops) is deprecated and will be removed in a future version.\n",
            "Instructions for updating:\n",
            "Use tf.cast instead.\n",
            "Epoch 1/40\n",
            "15000/15000 [==============================] - 1s 72us/sample - loss: 0.6919 - acc: 0.5917 - val_loss: 0.6899 - val_acc: 0.6604\n",
            "Epoch 2/40\n",
            "15000/15000 [==============================] - 1s 56us/sample - loss: 0.6863 - acc: 0.7150 - val_loss: 0.6825 - val_acc: 0.7219\n",
            "Epoch 3/40\n",
            "15000/15000 [==============================] - 1s 54us/sample - loss: 0.6751 - acc: 0.7439 - val_loss: 0.6688 - val_acc: 0.7506\n",
            "Epoch 4/40\n",
            "15000/15000 [==============================] - 1s 56us/sample - loss: 0.6560 - acc: 0.7493 - val_loss: 0.6471 - val_acc: 0.7631\n",
            "Epoch 5/40\n",
            "15000/15000 [==============================] - 1s 56us/sample - loss: 0.6280 - acc: 0.7817 - val_loss: 0.6177 - val_acc: 0.7795\n",
            "Epoch 6/40\n",
            "15000/15000 [==============================] - 1s 55us/sample - loss: 0.5919 - acc: 0.8043 - val_loss: 0.5826 - val_acc: 0.7924\n",
            "Epoch 7/40\n",
            "15000/15000 [==============================] - 1s 56us/sample - loss: 0.5504 - acc: 0.8190 - val_loss: 0.5429 - val_acc: 0.8139\n",
            "Epoch 8/40\n",
            "15000/15000 [==============================] - 1s 55us/sample - loss: 0.5072 - acc: 0.8391 - val_loss: 0.5044 - val_acc: 0.8268\n",
            "Epoch 9/40\n",
            "15000/15000 [==============================] - 1s 53us/sample - loss: 0.4644 - acc: 0.8532 - val_loss: 0.4665 - val_acc: 0.8387\n",
            "Epoch 10/40\n",
            "15000/15000 [==============================] - 1s 54us/sample - loss: 0.4240 - acc: 0.8665 - val_loss: 0.4335 - val_acc: 0.8454\n",
            "Epoch 11/40\n",
            "15000/15000 [==============================] - 1s 54us/sample - loss: 0.3886 - acc: 0.8749 - val_loss: 0.4053 - val_acc: 0.8551\n",
            "Epoch 12/40\n",
            "15000/15000 [==============================] - 1s 53us/sample - loss: 0.3582 - acc: 0.8842 - val_loss: 0.3834 - val_acc: 0.8579\n",
            "Epoch 13/40\n",
            "15000/15000 [==============================] - 1s 54us/sample - loss: 0.3333 - acc: 0.8911 - val_loss: 0.3637 - val_acc: 0.8651\n",
            "Epoch 14/40\n",
            "15000/15000 [==============================] - 1s 54us/sample - loss: 0.3110 - acc: 0.8959 - val_loss: 0.3494 - val_acc: 0.8689\n",
            "Epoch 15/40\n",
            "15000/15000 [==============================] - 1s 54us/sample - loss: 0.2925 - acc: 0.9006 - val_loss: 0.3371 - val_acc: 0.8720\n",
            "Epoch 16/40\n",
            "15000/15000 [==============================] - 1s 54us/sample - loss: 0.2761 - acc: 0.9060 - val_loss: 0.3273 - val_acc: 0.8733\n",
            "Epoch 17/40\n",
            "15000/15000 [==============================] - 1s 55us/sample - loss: 0.2611 - acc: 0.9108 - val_loss: 0.3190 - val_acc: 0.8760\n",
            "Epoch 18/40\n",
            "15000/15000 [==============================] - 1s 54us/sample - loss: 0.2479 - acc: 0.9153 - val_loss: 0.3117 - val_acc: 0.8788\n",
            "Epoch 19/40\n",
            "15000/15000 [==============================] - 1s 53us/sample - loss: 0.2361 - acc: 0.9188 - val_loss: 0.3058 - val_acc: 0.8803\n",
            "Epoch 20/40\n",
            "15000/15000 [==============================] - 1s 54us/sample - loss: 0.2255 - acc: 0.9225 - val_loss: 0.3017 - val_acc: 0.8802\n",
            "Epoch 21/40\n",
            "15000/15000 [==============================] - 1s 54us/sample - loss: 0.2148 - acc: 0.9274 - val_loss: 0.2981 - val_acc: 0.8805\n",
            "Epoch 22/40\n",
            "15000/15000 [==============================] - 1s 54us/sample - loss: 0.2058 - acc: 0.9294 - val_loss: 0.2943 - val_acc: 0.8834\n",
            "Epoch 23/40\n",
            "15000/15000 [==============================] - 1s 53us/sample - loss: 0.1968 - acc: 0.9332 - val_loss: 0.2925 - val_acc: 0.8826\n",
            "Epoch 24/40\n",
            "15000/15000 [==============================] - 1s 52us/sample - loss: 0.1889 - acc: 0.9370 - val_loss: 0.2905 - val_acc: 0.8841\n",
            "Epoch 25/40\n",
            "15000/15000 [==============================] - 1s 53us/sample - loss: 0.1809 - acc: 0.9409 - val_loss: 0.2881 - val_acc: 0.8838\n",
            "Epoch 26/40\n",
            "15000/15000 [==============================] - 1s 53us/sample - loss: 0.1739 - acc: 0.9435 - val_loss: 0.2882 - val_acc: 0.8840\n",
            "Epoch 27/40\n",
            "15000/15000 [==============================] - 1s 52us/sample - loss: 0.1671 - acc: 0.9461 - val_loss: 0.2870 - val_acc: 0.8838\n",
            "Epoch 28/40\n",
            "15000/15000 [==============================] - 1s 53us/sample - loss: 0.1606 - acc: 0.9496 - val_loss: 0.2870 - val_acc: 0.8858\n",
            "Epoch 29/40\n",
            "15000/15000 [==============================] - 1s 56us/sample - loss: 0.1550 - acc: 0.9522 - val_loss: 0.2876 - val_acc: 0.8835\n",
            "Epoch 30/40\n",
            "15000/15000 [==============================] - 1s 56us/sample - loss: 0.1492 - acc: 0.9537 - val_loss: 0.2866 - val_acc: 0.8856\n",
            "Epoch 31/40\n",
            "15000/15000 [==============================] - 1s 58us/sample - loss: 0.1431 - acc: 0.9574 - val_loss: 0.2871 - val_acc: 0.8859\n",
            "Epoch 32/40\n",
            "15000/15000 [==============================] - 1s 59us/sample - loss: 0.1378 - acc: 0.9593 - val_loss: 0.2880 - val_acc: 0.8855\n",
            "Epoch 33/40\n",
            "15000/15000 [==============================] - 1s 57us/sample - loss: 0.1325 - acc: 0.9603 - val_loss: 0.2896 - val_acc: 0.8860\n",
            "Epoch 34/40\n",
            "15000/15000 [==============================] - 1s 56us/sample - loss: 0.1279 - acc: 0.9628 - val_loss: 0.2911 - val_acc: 0.8852\n",
            "Epoch 35/40\n",
            "15000/15000 [==============================] - 1s 57us/sample - loss: 0.1237 - acc: 0.9633 - val_loss: 0.2926 - val_acc: 0.8864\n",
            "Epoch 36/40\n",
            "15000/15000 [==============================] - 1s 53us/sample - loss: 0.1189 - acc: 0.9665 - val_loss: 0.2941 - val_acc: 0.8857\n",
            "Epoch 37/40\n",
            "15000/15000 [==============================] - 1s 54us/sample - loss: 0.1144 - acc: 0.9679 - val_loss: 0.2963 - val_acc: 0.8857\n",
            "Epoch 38/40\n",
            "15000/15000 [==============================] - 1s 55us/sample - loss: 0.1103 - acc: 0.9695 - val_loss: 0.2992 - val_acc: 0.8843\n",
            "Epoch 39/40\n",
            "15000/15000 [==============================] - 1s 57us/sample - loss: 0.1071 - acc: 0.9703 - val_loss: 0.3021 - val_acc: 0.8836\n",
            "Epoch 40/40\n",
            "15000/15000 [==============================] - 1s 55us/sample - loss: 0.1028 - acc: 0.9725 - val_loss: 0.3042 - val_acc: 0.8844\n"
          ],
          "name": "stdout"
        }
      ]
    },
    {
      "metadata": {
        "id": "9EEGuDVuzb5r",
        "colab_type": "text"
      },
      "cell_type": "markdown",
      "source": [
        "##### Evaluate the model\n",
        "\n",
        "And let's see how the model performs. Two values will be returned. Loss (a number which represents our error, lower values are better), and accuracy."
      ]
    },
    {
      "metadata": {
        "id": "zOMKywn4zReN",
        "colab_type": "code",
        "outputId": "9fea7e2e-b64b-492e-8464-b402615260f9",
        "colab": {
          "base_uri": "https://localhost:8080/"
        }
      },
      "cell_type": "code",
      "source": [
        "results = model.evaluate(test_data, test_labels)\n",
        "\n",
        "print(results)"
      ],
      "execution_count": 0,
      "outputs": [
        {
          "output_type": "stream",
          "text": [
            "25000/25000 [==============================] - 1s 39us/sample - loss: 0.3236 - acc: 0.8720\n",
            "[0.32361660490989685, 0.872]\n"
          ],
          "name": "stdout"
        }
      ]
    },
    {
      "metadata": {
        "id": "z1iEXVTR0Z2t",
        "colab_type": "text"
      },
      "cell_type": "markdown",
      "source": [
        "This fairly naive approach achieves an accuracy of about 87%. With more advanced approaches, the model should get closer to 95%."
      ]
    },
    {
      "metadata": {
        "id": "5KggXVeL-llZ",
        "colab_type": "text"
      },
      "cell_type": "markdown",
      "source": [
        "##### Create a graph of accuracy and loss over time\n",
        "\n",
        "`model.fit()` returns a `History` object that contains a dictionary with everything that happened during training:"
      ]
    },
    {
      "metadata": {
        "id": "VcvSXvhp-llb",
        "colab_type": "code",
        "outputId": "989173d6-eb8f-4394-ee87-1397fd4d31db",
        "colab": {
          "base_uri": "https://localhost:8080/"
        }
      },
      "cell_type": "code",
      "source": [
        "history_dict = history.history\n",
        "history_dict.keys()"
      ],
      "execution_count": 0,
      "outputs": [
        {
          "output_type": "execute_result",
          "data": {
            "text/plain": [
              "dict_keys(['loss', 'acc', 'val_loss', 'val_acc'])"
            ]
          },
          "metadata": {
            "tags": []
          },
          "execution_count": 18
        }
      ]
    },
    {
      "metadata": {
        "id": "nRKsqL40-lle",
        "colab_type": "text"
      },
      "cell_type": "markdown",
      "source": [
        "There are four entries: one for each monitored metric during training and validation. We can use these to plot the training and validation loss for comparison, as well as the training and validation accuracy:"
      ]
    },
    {
      "metadata": {
        "id": "nGoYf2Js-lle",
        "colab_type": "code",
        "outputId": "5e32ae1b-4b11-4ce9-e0bf-1734969507d6",
        "colab": {
          "base_uri": "https://localhost:8080/"
        }
      },
      "cell_type": "code",
      "source": [
        "import matplotlib.pyplot as plt\n",
        "\n",
        "acc = history_dict['acc']\n",
        "val_acc = history_dict['val_acc']\n",
        "loss = history_dict['loss']\n",
        "val_loss = history_dict['val_loss']\n",
        "\n",
        "epochs = range(1, len(acc) + 1)\n",
        "\n",
        "# \"bo\" is for \"blue dot\"\n",
        "plt.plot(epochs, loss, 'bo', label='Training loss')\n",
        "# b is for \"solid blue line\"\n",
        "plt.plot(epochs, val_loss, 'b', label='Validation loss')\n",
        "plt.title('Training and validation loss')\n",
        "plt.xlabel('Epochs')\n",
        "plt.ylabel('Loss')\n",
        "plt.legend()\n",
        "\n",
        "plt.show()"
      ],
      "execution_count": 0,
      "outputs": [
        {
          "output_type": "display_data",
          "data": {
            "image/png": "[encoded data removed]",
            "text/plain": [
              "<Figure size 576x396 with 1 Axes>"
            ]
          },
          "metadata": {
            "tags": []
          }
        }
      ]
    },
    {
      "metadata": {
        "id": "6hXx-xOv-llh",
        "colab_type": "code",
        "outputId": "02ce5d01-233f-4194-b399-068368f0ad83",
        "colab": {
          "base_uri": "https://localhost:8080/"
        }
      },
      "cell_type": "code",
      "source": [
        "plt.clf()   # clear figure\n",
        "\n",
        "plt.plot(epochs, acc, 'bo', label='Training acc')\n",
        "plt.plot(epochs, val_acc, 'b', label='Validation acc')\n",
        "plt.title('Training and validation accuracy')\n",
        "plt.xlabel('Epochs')\n",
        "plt.ylabel('Accuracy')\n",
        "plt.legend()\n",
        "\n",
        "plt.show()"
      ],
      "execution_count": 0,
      "outputs": [
        {
          "output_type": "display_data",
          "data": {
            "image/png": "[encoded data removed]",
            "text/plain": [
              "<Figure size 576x396 with 1 Axes>"
            ]
          },
          "metadata": {
            "tags": []
          }
        }
      ]
    },
    {
      "metadata": {
        "id": "oFEmZ5zq-llk",
        "colab_type": "text"
      },
      "cell_type": "markdown",
      "source": [
        "\n",
        "In this plot, the dots represent the training loss and accuracy, and the solid lines are the validation loss and accuracy.\n",
        "\n",
        "Notice the training loss *decreases* with each epoch and the training accuracy *increases* with each epoch. This is expected when using a gradient descent optimization—it should minimize the desired quantity on every iteration.\n",
        "\n",
        "This isn't the case for the validation loss and accuracy—they seem to peak after about twenty epochs. This is an example of overfitting: the model performs better on the training data than it does on data it has never seen before. After this point, the model over-optimizes and learns representations *specific* to the training data that do not *generalize* to test data.\n",
        "\n",
        "For this particular case, we could prevent overfitting by simply stopping the training after twenty or so epochs. Later, you'll see how to do this automatically with a callback."
      ]
    },
    {
      "metadata": {
        "id": "NvoiEwiAWrWy",
        "colab_type": "text"
      },
      "cell_type": "markdown",
      "source": [
        "## Ludwig (Open Source AutoML)"
      ]
    },
    {
      "metadata": {
        "id": "jbnbFKcTXNOn",
        "colab_type": "text"
      },
      "cell_type": "markdown",
      "source": [
        "**Github Project URL**:  https://uber.github.io/ludwig/\n",
        "\n",
        "![alt text](https://user-images.githubusercontent.com/58792/52920000-f78d8c00-32bc-11e9-8e5e-adf53f1b8a37.png)"
      ]
    },
    {
      "metadata": {
        "id": "Aa-KnZKcfvkV",
        "colab_type": "text"
      },
      "cell_type": "markdown",
      "source": [
        "### Install Ludwig"
      ]
    },
    {
      "metadata": {
        "id": "Q3FrtesdfyV9",
        "colab_type": "code",
        "outputId": "1db2fd0d-8904-489e-ac1f-70bc70c9704a",
        "colab": {
          "base_uri": "https://localhost:8080/",
          "height": 925
        }
      },
      "cell_type": "code",
      "source": [
        "!pip install --upgrade numpy #must restart colab runtime\n",
        "!pip install --upgrade scikit-image\n",
        "!pip install -q ludwig\n",
        "!python -m spacy download en "
      ],
      "execution_count": 0,
      "outputs": [
        {
          "output_type": "stream",
          "text": [
            "Requirement already up-to-date: numpy in /usr/local/lib/python3.6/dist-packages (1.16.1)\n",
            "Collecting scikit-image\n",
            "\u001b[?25l  Downloading https://files.pythonhosted.org/packages/24/06/d560630eb9e36d90d69fe57d9ff762d8f501664ce478b8a0ae132b3c3008/scikit_image-0.14.2-cp36-cp36m-manylinux1_x86_64.whl (25.3MB)\n",
            "\u001b[K    100% |████████████████████████████████| 25.3MB 1.9MB/s \n",
            "\u001b[?25hCollecting pillow>=4.3.0 (from scikit-image)\n",
            "\u001b[?25l  Downloading https://files.pythonhosted.org/packages/85/5e/e91792f198bbc5a0d7d3055ad552bc4062942d27eaf75c3e2783cf64eae5/Pillow-5.4.1-cp36-cp36m-manylinux1_x86_64.whl (2.0MB)\n",
            "\u001b[K    100% |████████████████████████████████| 2.0MB 18.3MB/s \n",
            "\u001b[?25hRequirement already satisfied, skipping upgrade: scipy>=0.17.0 in /usr/local/lib/python3.6/dist-packages (from scikit-image) (1.1.0)\n",
            "Requirement already satisfied, skipping upgrade: matplotlib>=2.0.0 in /usr/local/lib/python3.6/dist-packages (from scikit-image) (3.0.2)\n",
            "Requirement already satisfied, skipping upgrade: six>=1.10.0 in /usr/local/lib/python3.6/dist-packages (from scikit-image) (1.11.0)\n",
            "Requirement already satisfied, skipping upgrade: cloudpickle>=0.2.1 in /usr/local/lib/python3.6/dist-packages (from scikit-image) (0.6.1)\n",
            "Requirement already satisfied, skipping upgrade: PyWavelets>=0.4.0 in /usr/local/lib/python3.6/dist-packages (from scikit-image) (1.0.1)\n",
            "Requirement already satisfied, skipping upgrade: networkx>=1.8 in /usr/local/lib/python3.6/dist-packages (from scikit-image) (2.2)\n",
            "Collecting dask[array]>=1.0.0 (from scikit-image)\n",
            "\u001b[?25l  Downloading https://files.pythonhosted.org/packages/7c/2b/cf9e5477bec3bd3b4687719876ea38e9d8c9dc9d3526365c74e836e6a650/dask-1.1.1-py2.py3-none-any.whl (701kB)\n",
            "\u001b[K    100% |████████████████████████████████| 706kB 25.2MB/s \n",
            "\u001b[?25hRequirement already satisfied, skipping upgrade: numpy>=1.8.2 in /usr/local/lib/python3.6/dist-packages (from scipy>=0.17.0->scikit-image) (1.16.1)\n",
            "Requirement already satisfied, skipping upgrade: cycler>=0.10 in /usr/local/lib/python3.6/dist-packages (from matplotlib>=2.0.0->scikit-image) (0.10.0)\n",
            "Requirement already satisfied, skipping upgrade: pyparsing!=2.0.4,!=2.1.2,!=2.1.6,>=2.0.1 in /usr/local/lib/python3.6/dist-packages (from matplotlib>=2.0.0->scikit-image) (2.3.1)\n",
            "Requirement already satisfied, skipping upgrade: kiwisolver>=1.0.1 in /usr/local/lib/python3.6/dist-packages (from matplotlib>=2.0.0->scikit-image) (1.0.1)\n",
            "Requirement already satisfied, skipping upgrade: python-dateutil>=2.1 in /usr/local/lib/python3.6/dist-packages (from matplotlib>=2.0.0->scikit-image) (2.5.3)\n",
            "Requirement already satisfied, skipping upgrade: decorator>=4.3.0 in /usr/local/lib/python3.6/dist-packages (from networkx>=1.8->scikit-image) (4.3.2)\n",
            "Requirement already satisfied, skipping upgrade: toolz>=0.7.3; extra == \"array\" in /usr/local/lib/python3.6/dist-packages (from dask[array]>=1.0.0->scikit-image) (0.9.0)\n",
            "Requirement already satisfied, skipping upgrade: setuptools in /usr/local/lib/python3.6/dist-packages (from kiwisolver>=1.0.1->matplotlib>=2.0.0->scikit-image) (40.8.0)\n",
            "\u001b[31mfeaturetools 0.4.1 has requirement pandas>=0.23.0, but you'll have pandas 0.22.0 which is incompatible.\u001b[0m\n",
            "\u001b[31malbumentations 0.1.12 has requirement imgaug<0.2.7,>=0.2.5, but you'll have imgaug 0.2.8 which is incompatible.\u001b[0m\n",
            "Installing collected packages: pillow, dask, scikit-image\n",
            "  Found existing installation: Pillow 4.0.0\n",
            "    Uninstalling Pillow-4.0.0:\n",
            "      Successfully uninstalled Pillow-4.0.0\n",
            "  Found existing installation: dask 0.20.2\n",
            "    Uninstalling dask-0.20.2:\n",
            "      Successfully uninstalled dask-0.20.2\n",
            "  Found existing installation: scikit-image 0.13.1\n",
            "    Uninstalling scikit-image-0.13.1:\n",
            "      Successfully uninstalled scikit-image-0.13.1\n",
            "Successfully installed dask-1.1.1 pillow-5.4.1 scikit-image-0.14.2\n"
          ],
          "name": "stdout"
        },
        {
          "output_type": "display_data",
          "data": {
            "application/vnd.colab-display-data+json": {
              "pip_warning": {
                "packages": [
                  "PIL"
                ]
              }
            }
          },
          "metadata": {
            "tags": []
          }
        },
        {
          "output_type": "stream",
          "text": [
            "Requirement already satisfied: en_core_web_sm==2.0.0 from https://github.com/explosion/spacy-models/releases/download/en_core_web_sm-2.0.0/en_core_web_sm-2.0.0.tar.gz#egg=en_core_web_sm==2.0.0 in /usr/local/lib/python3.6/dist-packages (2.0.0)\n",
            "\n",
            "\u001b[93m    Linking successful\u001b[0m\n",
            "    /usr/local/lib/python3.6/dist-packages/en_core_web_sm -->\n",
            "    /usr/local/lib/python3.6/dist-packages/spacy/data/en\n",
            "\n",
            "    You can now load the model via spacy.load('en')\n",
            "\n"
          ],
          "name": "stdout"
        }
      ]
    },
    {
      "metadata": {
        "id": "yVLSSAUViyiX",
        "colab_type": "text"
      },
      "cell_type": "markdown",
      "source": [
        "### Basic Ideas"
      ]
    },
    {
      "metadata": {
        "id": "qHaRqAN5i1iV",
        "colab_type": "text"
      },
      "cell_type": "markdown",
      "source": [
        "* **Training Models**\n",
        "* **Prediction (Inference)**\n",
        "* **Datatypes**\n",
        " - binary\n",
        " - numerical\n",
        " - category\n",
        " - set\n",
        " - bag\n",
        " - sequence\n",
        " - text\n",
        " - timeseries\n",
        " - image\n",
        "\n"
      ]
    },
    {
      "metadata": {
        "id": "W3G5sZ3yo-yK",
        "colab_type": "text"
      },
      "cell_type": "markdown",
      "source": [
        "### Classification of Book Title Categories (Project)"
      ]
    },
    {
      "metadata": {
        "id": "aIbXYrxU8ySd",
        "colab_type": "code",
        "outputId": "241c61f9-ad81-4c4d-82dd-42bef0502fdf",
        "colab": {
          "base_uri": "https://localhost:8080/",
          "height": 407
        }
      },
      "cell_type": "code",
      "source": [
        "!wget https://raw.githubusercontent.com/uchidalab/book-dataset/master/Task1/book30-listing-train.csv\n",
        "!wget https://raw.githubusercontent.com/noahgift/recommendations/master/model_definition.yaml"
      ],
      "execution_count": 0,
      "outputs": [
        {
          "output_type": "stream",
          "text": [
            "--2019-02-18 02:44:21--  https://raw.githubusercontent.com/uchidalab/book-dataset/master/Task1/book30-listing-train.csv\n",
            "Resolving raw.githubusercontent.com (raw.githubusercontent.com)... 151.101.0.133, 151.101.64.133, 151.101.128.133, ...\n",
            "Connecting to raw.githubusercontent.com (raw.githubusercontent.com)|151.101.0.133|:443... connected.\n",
            "HTTP request sent, awaiting response... 200 OK\n",
            "Length: 9728786 (9.3M) [text/plain]\n",
            "Saving to: ‘book30-listing-train.csv.3’\n",
            "\n",
            "book30-listing-trai 100%[===================>]   9.28M  --.-KB/s    in 0.1s    \n",
            "\n",
            "2019-02-18 02:44:23 (64.4 MB/s) - ‘book30-listing-train.csv.3’ saved [9728786/9728786]\n",
            "\n",
            "--2019-02-18 02:44:24--  https://raw.githubusercontent.com/noahgift/recommendations/master/model_definition.yaml\n",
            "Resolving raw.githubusercontent.com (raw.githubusercontent.com)... 151.101.0.133, 151.101.64.133, 151.101.128.133, ...\n",
            "Connecting to raw.githubusercontent.com (raw.githubusercontent.com)|151.101.0.133|:443... connected.\n",
            "HTTP request sent, awaiting response... 200 OK\n",
            "Length: 180 [text/plain]\n",
            "Saving to: ‘model_definition.yaml.2’\n",
            "\n",
            "model_definition.ya 100%[===================>]     180  --.-KB/s    in 0s      \n",
            "\n",
            "2019-02-18 02:44:25 (34.7 MB/s) - ‘model_definition.yaml.2’ saved [180/180]\n",
            "\n"
          ],
          "name": "stdout"
        }
      ]
    },
    {
      "metadata": {
        "id": "v-w5Zkzcumoi",
        "colab_type": "text"
      },
      "cell_type": "markdown",
      "source": [
        "#### Ingest"
      ]
    },
    {
      "metadata": {
        "id": "Ef8dbaV4tHrz",
        "colab_type": "code",
        "outputId": "e7bbaff9-edcf-43df-f142-f8e5e916338f",
        "colab": {
          "base_uri": "https://localhost:8080/",
          "height": 197
        }
      },
      "cell_type": "code",
      "source": [
        "import pandas as pd\n",
        "df = pd.read_csv(\"https://media.githubusercontent.com/media/noahgift/recommendations/master/data/book30-listing-train-with-headers.csv\")\n",
        "df = df.drop(\"Unnamed: 0\", axis=1)\n",
        "df.head()"
      ],
      "execution_count": 0,
      "outputs": [
        {
          "output_type": "execute_result",
          "data": {
            "text/html": [
              "<div>\n",
              "<style scoped>\n",
              "    .dataframe tbody tr th:only-of-type {\n",
              "        vertical-align: middle;\n",
              "    }\n",
              "\n",
              "    .dataframe tbody tr th {\n",
              "        vertical-align: top;\n",
              "    }\n",
              "\n",
              "    .dataframe thead th {\n",
              "        text-align: right;\n",
              "    }\n",
              "</style>\n",
              "<table border=\"1\" class=\"dataframe\">\n",
              "  <thead>\n",
              "    <tr style=\"text-align: right;\">\n",
              "      <th></th>\n",
              "      <th>ASIN</th>\n",
              "      <th>FILENAME</th>\n",
              "      <th>IMAGE URL</th>\n",
              "      <th>TITLE</th>\n",
              "      <th>AUTHOR</th>\n",
              "      <th>CATEGORYID</th>\n",
              "      <th>CATEGORY</th>\n",
              "    </tr>\n",
              "  </thead>\n",
              "  <tbody>\n",
              "    <tr>\n",
              "      <th>0</th>\n",
              "      <td>1404803335</td>\n",
              "      <td>1404803335.jpg</td>\n",
              "      <td>http://ecx.images-amazon.com/images/I/51UJnL3T...</td>\n",
              "      <td>Magnets: Pulling Together, Pushing Apart (Amaz...</td>\n",
              "      <td>Natalie M. Rosinsky</td>\n",
              "      <td>4</td>\n",
              "      <td>Children's Books</td>\n",
              "    </tr>\n",
              "    <tr>\n",
              "      <th>1</th>\n",
              "      <td>1446276082</td>\n",
              "      <td>1446276082.jpg</td>\n",
              "      <td>http://ecx.images-amazon.com/images/I/51MGUKhk...</td>\n",
              "      <td>Energy Security (SAGE Library of International...</td>\n",
              "      <td>NaN</td>\n",
              "      <td>10</td>\n",
              "      <td>Engineering &amp; Transportation</td>\n",
              "    </tr>\n",
              "    <tr>\n",
              "      <th>2</th>\n",
              "      <td>1491522666</td>\n",
              "      <td>1491522666.jpg</td>\n",
              "      <td>http://ecx.images-amazon.com/images/I/51qKvjsi...</td>\n",
              "      <td>An Amish Gathering: Life in Lancaster County</td>\n",
              "      <td>Beth Wiseman</td>\n",
              "      <td>9</td>\n",
              "      <td>Christian Books &amp; Bibles</td>\n",
              "    </tr>\n",
              "    <tr>\n",
              "      <th>3</th>\n",
              "      <td>970096410</td>\n",
              "      <td>0970096410.jpg</td>\n",
              "      <td>http://ecx.images-amazon.com/images/I/51qoUENb...</td>\n",
              "      <td>City of Rocks Idaho: A Climber's Guide (Region...</td>\n",
              "      <td>Dave Bingham</td>\n",
              "      <td>26</td>\n",
              "      <td>Sports &amp; Outdoors</td>\n",
              "    </tr>\n",
              "    <tr>\n",
              "      <th>4</th>\n",
              "      <td>8436808053</td>\n",
              "      <td>8436808053.jpg</td>\n",
              "      <td>http://ecx.images-amazon.com/images/I/41aDW5pz...</td>\n",
              "      <td>Como vencer el insomnio. Tecnicas, reglas y co...</td>\n",
              "      <td>Choliz Montanes</td>\n",
              "      <td>11</td>\n",
              "      <td>Health, Fitness &amp; Dieting</td>\n",
              "    </tr>\n",
              "  </tbody>\n",
              "</table>\n",
              "</div>"
            ],
            "text/plain": [
              "         ASIN        FILENAME  \\\n",
              "0  1404803335  1404803335.jpg   \n",
              "1  1446276082  1446276082.jpg   \n",
              "2  1491522666  1491522666.jpg   \n",
              "3   970096410  0970096410.jpg   \n",
              "4  8436808053  8436808053.jpg   \n",
              "\n",
              "                                           IMAGE URL  \\\n",
              "0  http://ecx.images-amazon.com/images/I/51UJnL3T...   \n",
              "1  http://ecx.images-amazon.com/images/I/51MGUKhk...   \n",
              "2  http://ecx.images-amazon.com/images/I/51qKvjsi...   \n",
              "3  http://ecx.images-amazon.com/images/I/51qoUENb...   \n",
              "4  http://ecx.images-amazon.com/images/I/41aDW5pz...   \n",
              "\n",
              "                                               TITLE               AUTHOR  \\\n",
              "0  Magnets: Pulling Together, Pushing Apart (Amaz...  Natalie M. Rosinsky   \n",
              "1  Energy Security (SAGE Library of International...                  NaN   \n",
              "2       An Amish Gathering: Life in Lancaster County         Beth Wiseman   \n",
              "3  City of Rocks Idaho: A Climber's Guide (Region...         Dave Bingham   \n",
              "4  Como vencer el insomnio. Tecnicas, reglas y co...      Choliz Montanes   \n",
              "\n",
              "   CATEGORYID                      CATEGORY  \n",
              "0           4              Children's Books  \n",
              "1          10  Engineering & Transportation  \n",
              "2           9      Christian Books & Bibles  \n",
              "3          26             Sports & Outdoors  \n",
              "4          11     Health, Fitness & Dieting  "
            ]
          },
          "metadata": {
            "tags": []
          },
          "execution_count": 39
        }
      ]
    },
    {
      "metadata": {
        "id": "efw0icqJ_0Bq",
        "colab_type": "code",
        "colab": {}
      },
      "cell_type": "code",
      "source": [
        "df.to_csv(\"book30-listing-train-with-headers.csv\")"
      ],
      "execution_count": 0,
      "outputs": []
    },
    {
      "metadata": {
        "id": "wR_L2OPkuqH4",
        "colab_type": "text"
      },
      "cell_type": "markdown",
      "source": [
        "#### EDA"
      ]
    },
    {
      "metadata": {
        "id": "IUGz5U5duj-D",
        "colab_type": "text"
      },
      "cell_type": "markdown",
      "source": [
        "**Columns**"
      ]
    },
    {
      "metadata": {
        "id": "KVYJIiwHuhiT",
        "colab_type": "code",
        "outputId": "c5a39f2f-e99f-4514-8bb8-ebe7c4eee1b1",
        "colab": {
          "base_uri": "https://localhost:8080/",
          "height": 70
        }
      },
      "cell_type": "code",
      "source": [
        "df.columns"
      ],
      "execution_count": 0,
      "outputs": [
        {
          "output_type": "execute_result",
          "data": {
            "text/plain": [
              "Index(['ASIN', 'FILENAME', 'IMAGE URL', 'TITLE', 'AUTHOR', 'CATEGORYID',\n",
              "       'CATEGORY'],\n",
              "      dtype='object')"
            ]
          },
          "metadata": {
            "tags": []
          },
          "execution_count": 40
        }
      ]
    },
    {
      "metadata": {
        "id": "ir0Viy2zuyr1",
        "colab_type": "text"
      },
      "cell_type": "markdown",
      "source": [
        "**Shape**"
      ]
    },
    {
      "metadata": {
        "id": "-kaJsKyruyAl",
        "colab_type": "code",
        "outputId": "f0e37663-1297-49c0-e000-ec0af6665d43",
        "colab": {
          "base_uri": "https://localhost:8080/",
          "height": 34
        }
      },
      "cell_type": "code",
      "source": [
        "df.shape"
      ],
      "execution_count": 0,
      "outputs": [
        {
          "output_type": "execute_result",
          "data": {
            "text/plain": [
              "(51299, 7)"
            ]
          },
          "metadata": {
            "tags": []
          },
          "execution_count": 41
        }
      ]
    },
    {
      "metadata": {
        "id": "JJNSA3n0u3Zf",
        "colab_type": "text"
      },
      "cell_type": "markdown",
      "source": [
        "#### Training w/Ludwig"
      ]
    },
    {
      "metadata": {
        "id": "bldBWuL2Nwmh",
        "colab_type": "code",
        "outputId": "1c6b54c6-35ec-4fa8-b1a5-dd9bcd42b013",
        "colab": {
          "base_uri": "https://localhost:8080/",
          "height": 214
        }
      },
      "cell_type": "code",
      "source": [
        "!head book30-listing-train-with-headers.csv"
      ],
      "execution_count": 0,
      "outputs": [
        {
          "output_type": "stream",
          "text": [
            ",ASIN,FILENAME,IMAGE URL,TITLE,AUTHOR,CATEGORYID,CATEGORY\n",
            "0,1404803335,1404803335.jpg,http://ecx.images-amazon.com/images/I/51UJnL3Tx6L.jpg,\"Magnets: Pulling Together, Pushing Apart (Amazing Science)\",Natalie M. Rosinsky,4,Children's Books\n",
            "1,1446276082,1446276082.jpg,http://ecx.images-amazon.com/images/I/51MGUKhkyhL.jpg,Energy Security (SAGE Library of International Security),,10,Engineering & Transportation\n",
            "2,1491522666,1491522666.jpg,http://ecx.images-amazon.com/images/I/51qKvjsi3ML.jpg,An Amish Gathering: Life in Lancaster County,Beth Wiseman,9,Christian Books & Bibles\n",
            "3,970096410,0970096410.jpg,http://ecx.images-amazon.com/images/I/51qoUENb1CL.jpg,City of Rocks Idaho: A Climber's Guide (Regional Rock Climbing Series),Dave Bingham,26,Sports & Outdoors\n",
            "4,8436808053,8436808053.jpg,http://ecx.images-amazon.com/images/I/41aDW5pzZBL.jpg,\"Como vencer el insomnio. Tecnicas, reglas y consejos practicos para dormir mejor (BIBLIOTECA PRACTICA) (Spanish Edition)\",Choliz Montanes,11,\"Health, Fitness & Dieting\"\n",
            "5,1848291388,1848291388.jpg,http://ecx.images-amazon.com/images/I/51Lpg7xmrBL.jpg,John Martin Littlejohn: An Enigma of Osteopathy,John O'Brien,16,Medical Books\n",
            "6,73402656,0073402656.jpg,http://ecx.images-amazon.com/images/I/51WccSzFUrL.jpg,Chemistry: The Molecular Nature of Matter and Change,Martin Silberberg,23,Science & Math\n",
            "7,323045979,0323045979.jpg,http://ecx.images-amazon.com/images/I/51rJir5EpnL.jpg,\"Mosby's Oncology Nursing Advisor: A Comprehensive Guide to Clinical Practice, 1e\",Susan Newton MS  RN  AOCN  AOCNS,16,Medical Books\n",
            "8,1847176968,1847176968.jpg,http://ecx.images-amazon.com/images/I/61KoC743OzL.jpg,Ireland's Wild Atlantic Way,Carsten Krieger,29,Travel\n"
          ],
          "name": "stdout"
        }
      ]
    },
    {
      "metadata": {
        "id": "ous6EqC8Nocg",
        "colab_type": "code",
        "outputId": "398add9c-ef76-47e2-9fbb-219c8ff1af53",
        "colab": {
          "base_uri": "https://localhost:8080/",
          "height": 212
        }
      },
      "cell_type": "code",
      "source": [
        "!cat model_definition.yaml"
      ],
      "execution_count": 0,
      "outputs": [
        {
          "output_type": "stream",
          "text": [
            "input_features:\n",
            "    -\n",
            "        name: TITLE\n",
            "        type: text\n",
            "        encoder: parallel_cnn\n",
            "        level: word\n",
            "\n",
            "output_features:\n",
            "    -\n",
            "        name: CATEGORY\n",
            "        type: category"
          ],
          "name": "stdout"
        }
      ]
    },
    {
      "metadata": {
        "id": "WpVA2fyXLRoK",
        "colab_type": "code",
        "outputId": "abfc3b5b-6f59-469f-cb7b-aff5e28cb8ca",
        "colab": {
          "base_uri": "https://localhost:8080/",
          "height": 20338
        }
      },
      "cell_type": "code",
      "source": [
        "!ludwig experiment --data_csv book30-listing-train-with-headers.csv --model_definition_file model_definition.yaml\n"
      ],
      "execution_count": 0,
      "outputs": [
        {
          "output_type": "stream",
          "text": [
            " _         _        _      \n",
            "| |_  _ __| |_ __ _(_)__ _ \n",
            "| | || / _` \\ V  V / / _` |\n",
            "|_|\\_,_\\__,_|\\_/\\_/|_\\__, |\n",
            "                     |___/ \n",
            "ludwig v0.1.0 - Experiment\n",
            "\n",
            "Experiment name: experiment\n",
            "Model name: run\n",
            "Output path: results/experiment_run_0\n",
            "\n",
            "ludwig_version: '0.1.0'\n",
            "command: ('/usr/local/bin/ludwig experiment --data_csv '\n",
            " 'book30-listing-train-with-headers.csv --model_definition_file '\n",
            " 'model_definition.yaml')\n",
            "dataset_type: 'book30-listing-train-with-headers.csv'\n",
            "model_definition: {   'combiner': {'type': 'concat'},\n",
            "    'input_features': [   {   'encoder': 'parallel_cnn',\n",
            "                              'level': 'word',\n",
            "                              'name': 'TITLE',\n",
            "                              'tied_weights': None,\n",
            "                              'type': 'text'}],\n",
            "    'output_features': [   {   'dependencies': [],\n",
            "                               'loss': {   'class_distance_temperature': 0,\n",
            "                                           'class_weights': 1,\n",
            "                                           'confidence_penalty': 0,\n",
            "                                           'distortion': 1,\n",
            "                                           'labels_smoothing': 0,\n",
            "                                           'negative_samples': 0,\n",
            "                                           'robust_lambda': 0,\n",
            "                                           'sampler': None,\n",
            "                                           'type': 'softmax_cross_entropy',\n",
            "                                           'unique': False,\n",
            "                                           'weight': 1},\n",
            "                               'name': 'CATEGORY',\n",
            "                               'reduce_dependencies': 'sum',\n",
            "                               'reduce_input': 'sum',\n",
            "                               'top_k': 3,\n",
            "                               'type': 'category'}],\n",
            "    'preprocessing': {   'bag': {   'fill_value': '',\n",
            "                                    'format': 'space',\n",
            "                                    'lowercase': 10000,\n",
            "                                    'missing_value_strategy': 'fill_with_const',\n",
            "                                    'most_common': False},\n",
            "                         'binary': {   'fill_value': 0,\n",
            "                                       'missing_value_strategy': 'fill_with_const'},\n",
            "                         'category': {   'fill_value': '<UNK>',\n",
            "                                         'lowercase': False,\n",
            "                                         'missing_value_strategy': 'fill_with_const',\n",
            "                                         'most_common': 10000},\n",
            "                         'force_split': False,\n",
            "                         'image': {'missing_value_strategy': 'backfill'},\n",
            "                         'numerical': {   'fill_value': 0,\n",
            "                                          'missing_value_strategy': 'fill_with_const'},\n",
            "                         'sequence': {   'fill_value': '',\n",
            "                                         'format': 'space',\n",
            "                                         'lowercase': False,\n",
            "                                         'missing_value_strategy': 'fill_with_const',\n",
            "                                         'most_common': 20000,\n",
            "                                         'padding': 'right',\n",
            "                                         'padding_symbol': '<PAD>',\n",
            "                                         'sequence_length_limit': 256,\n",
            "                                         'unknown_symbol': '<UNK>'},\n",
            "                         'set': {   'fill_value': '',\n",
            "                                    'format': 'space',\n",
            "                                    'lowercase': False,\n",
            "                                    'missing_value_strategy': 'fill_with_const',\n",
            "                                    'most_common': 10000},\n",
            "                         'split_probabilities': (0.7, 0.1, 0.2),\n",
            "                         'stratify': None,\n",
            "                         'text': {   'char_format': 'characters',\n",
            "                                     'char_most_common': 70,\n",
            "                                     'char_sequence_length_limit': 1024,\n",
            "                                     'fill_value': '',\n",
            "                                     'lowercase': True,\n",
            "                                     'missing_value_strategy': 'fill_with_const',\n",
            "                                     'padding': 'right',\n",
            "                                     'padding_symbol': '<PAD>',\n",
            "                                     'unknown_symbol': '<UNK>',\n",
            "                                     'word_format': 'space_punct',\n",
            "                                     'word_most_common': 20000,\n",
            "                                     'word_sequence_length_limit': 256},\n",
            "                         'timeseries': {   'fill_value': '',\n",
            "                                           'format': 'space',\n",
            "                                           'missing_value_strategy': 'fill_with_const',\n",
            "                                           'padding': 'right',\n",
            "                                           'padding_value': 0,\n",
            "                                           'timeseries_length_limit': 256}},\n",
            "    'training': {   'batch_size': 128,\n",
            "                    'bucketing_field': None,\n",
            "                    'decay': False,\n",
            "                    'decay_rate': 0.96,\n",
            "                    'decay_steps': 10000,\n",
            "                    'dropout_rate': 0.0,\n",
            "                    'early_stop': 3,\n",
            "                    'epochs': 200,\n",
            "                    'gradient_clipping': None,\n",
            "                    'increase_batch_size_on_plateau': 0,\n",
            "                    'increase_batch_size_on_plateau_max': 512,\n",
            "                    'increase_batch_size_on_plateau_patience': 5,\n",
            "                    'increase_batch_size_on_plateau_rate': 2,\n",
            "                    'learning_rate': 0.001,\n",
            "                    'learning_rate_warmup_epochs': 5,\n",
            "                    'optimizer': {   'beta1': 0.9,\n",
            "                                     'beta2': 0.999,\n",
            "                                     'epsilon': 1e-08,\n",
            "                                     'type': 'adam'},\n",
            "                    'reduce_learning_rate_on_plateau': 0,\n",
            "                    'reduce_learning_rate_on_plateau_patience': 5,\n",
            "                    'reduce_learning_rate_on_plateau_rate': 0.5,\n",
            "                    'regularization_lambda': 0,\n",
            "                    'regularizer': 'l2',\n",
            "                    'staircase': False,\n",
            "                    'validation_field': 'combined',\n",
            "                    'validation_measure': 'loss'}}\n",
            "\n",
            "Using full raw csv, no hdf5 and json file with the same name have been found\n",
            "Building dataset (it may take a while)\n",
            "Loading NLP pipeline\n",
            "Writing dataset\n",
            "Writing train set metadata with vocabulary\n",
            "Training set: 36059\n",
            "Validation set: 5042\n",
            "Test set: 10198\n",
            "WARNING:tensorflow:From /usr/local/lib/python3.6/dist-packages/tensorflow/python/framework/op_def_library.py:263: colocate_with (from tensorflow.python.framework.ops) is deprecated and will be removed in a future version.\n",
            "Instructions for updating:\n",
            "Colocations handled automatically by placer.\n",
            "From /usr/local/lib/python3.6/dist-packages/tensorflow/python/framework/op_def_library.py:263: colocate_with (from tensorflow.python.framework.ops) is deprecated and will be removed in a future version.\n",
            "Instructions for updating:\n",
            "Colocations handled automatically by placer.\n",
            "WARNING:tensorflow:From /usr/local/lib/python3.6/dist-packages/tensorflow/python/ops/losses/losses_impl.py:209: to_float (from tensorflow.python.ops.math_ops) is deprecated and will be removed in a future version.\n",
            "Instructions for updating:\n",
            "Use tf.cast instead.\n",
            "From /usr/local/lib/python3.6/dist-packages/tensorflow/python/ops/losses/losses_impl.py:209: to_float (from tensorflow.python.ops.math_ops) is deprecated and will be removed in a future version.\n",
            "Instructions for updating:\n",
            "Use tf.cast instead.\n",
            "WARNING:tensorflow:From /usr/local/lib/python3.6/dist-packages/tensorflow/python/ops/math_ops.py:3066: to_int32 (from tensorflow.python.ops.math_ops) is deprecated and will be removed in a future version.\n",
            "Instructions for updating:\n",
            "Use tf.cast instead.\n",
            "From /usr/local/lib/python3.6/dist-packages/tensorflow/python/ops/math_ops.py:3066: to_int32 (from tensorflow.python.ops.math_ops) is deprecated and will be removed in a future version.\n",
            "Instructions for updating:\n",
            "Use tf.cast instead.\n",
            "WARNING:tensorflow:From /usr/local/lib/python3.6/dist-packages/tensorflow/python/ops/math_grad.py:102: div (from tensorflow.python.ops.math_ops) is deprecated and will be removed in a future version.\n",
            "Instructions for updating:\n",
            "Deprecated in favor of operator or tf.math.divide.\n",
            "From /usr/local/lib/python3.6/dist-packages/tensorflow/python/ops/math_grad.py:102: div (from tensorflow.python.ops.math_ops) is deprecated and will be removed in a future version.\n",
            "Instructions for updating:\n",
            "Deprecated in favor of operator or tf.math.divide.\n",
            "\n",
            "╒══════════╕\n",
            "│ TRAINING │\n",
            "╘══════════╛\n",
            "\n",
            "2019-02-18 01:21:33.899464: I tensorflow/core/platform/profile_utils/cpu_utils.cc:94] CPU Frequency: 2200000000 Hz\n",
            "2019-02-18 01:21:33.899801: I tensorflow/compiler/xla/service/service.cc:150] XLA service 0x318ac00 executing computations on platform Host. Devices:\n",
            "2019-02-18 01:21:33.899835: I tensorflow/compiler/xla/service/service.cc:158]   StreamExecutor device (0): <undefined>, <undefined>\n",
            "2019-02-18 01:21:34.055715: I tensorflow/stream_executor/cuda/cuda_gpu_executor.cc:998] successful NUMA node read from SysFS had negative value (-1), but there must be at least one NUMA node, so returning NUMA node zero\n",
            "2019-02-18 01:21:34.056285: I tensorflow/compiler/xla/service/service.cc:150] XLA service 0x318a100 executing computations on platform CUDA. Devices:\n",
            "2019-02-18 01:21:34.056320: I tensorflow/compiler/xla/service/service.cc:158]   StreamExecutor device (0): Tesla K80, Compute Capability 3.7\n",
            "2019-02-18 01:21:34.056733: I tensorflow/core/common_runtime/gpu/gpu_device.cc:1433] Found device 0 with properties: \n",
            "name: Tesla K80 major: 3 minor: 7 memoryClockRate(GHz): 0.8235\n",
            "pciBusID: 0000:00:04.0\n",
            "totalMemory: 11.17GiB freeMemory: 11.10GiB\n",
            "2019-02-18 01:21:34.056767: I tensorflow/core/common_runtime/gpu/gpu_device.cc:1512] Adding visible gpu devices: 0\n",
            "2019-02-18 01:21:43.842054: I tensorflow/core/common_runtime/gpu/gpu_device.cc:984] Device interconnect StreamExecutor with strength 1 edge matrix:\n",
            "2019-02-18 01:21:43.842116: I tensorflow/core/common_runtime/gpu/gpu_device.cc:990]      0 \n",
            "2019-02-18 01:21:43.842133: I tensorflow/core/common_runtime/gpu/gpu_device.cc:1003] 0:   N \n",
            "2019-02-18 01:21:43.842364: W tensorflow/core/common_runtime/gpu/gpu_bfc_allocator.cc:42] Overriding allow_growth setting because the TF_FORCE_GPU_ALLOW_GROWTH environment variable is set. Original config value was 0.\n",
            "2019-02-18 01:21:43.842446: I tensorflow/core/common_runtime/gpu/gpu_device.cc:1115] Created TensorFlow device (/job:localhost/replica:0/task:0/device:GPU:0 with 10752 MB memory) -> physical GPU (device: 0, name: Tesla K80, pci bus id: 0000:00:04.0, compute capability: 3.7)\n",
            "\n",
            "Epoch   1\n",
            "Training:   0% 0/282 [00:00<?, ?it/s]2019-02-18 01:21:44.623868: I tensorflow/stream_executor/dso_loader.cc:152] successfully opened CUDA library libcublas.so.10.0 locally\n",
            "Training: 100% 282/282 [00:20<00:00, 13.95it/s]\n",
            "Evaluation train: 100% 282/282 [00:04<00:00, 59.52it/s]\n",
            "Evaluation vali : 100% 40/40 [00:00<00:00, 59.33it/s]\n",
            "Evaluation test : 100% 80/80 [00:01<00:00, 52.80it/s]\n",
            "Took 27.3456s\n",
            "╒════════════╤════════╤════════════╤═════════════╕\n",
            "│ CATEGORY   │   loss │   accuracy │   hits_at_k │\n",
            "╞════════════╪════════╪════════════╪═════════════╡\n",
            "│ train      │ 3.3077 │     0.0791 │      0.1855 │\n",
            "├────────────┼────────┼────────────┼─────────────┤\n",
            "│ vali       │ 3.3093 │     0.0768 │      0.1813 │\n",
            "├────────────┼────────┼────────────┼─────────────┤\n",
            "│ test       │ 3.3204 │     0.0757 │      0.1757 │\n",
            "╘════════════╧════════╧════════════╧═════════════╛\n",
            "Validation loss on combined improved, model saved\n",
            "\n",
            "\n",
            "Epoch   2\n",
            "Training: 100% 282/282 [00:17<00:00, 16.85it/s]\n",
            "Evaluation train: 100% 282/282 [00:04<00:00, 59.75it/s]\n",
            "Evaluation vali : 100% 40/40 [00:00<00:00, 60.45it/s]\n",
            "Evaluation test : 100% 80/80 [00:01<00:00, 59.97it/s]\n",
            "Took 23.9509s\n",
            "╒════════════╤════════╤════════════╤═════════════╕\n",
            "│ CATEGORY   │   loss │   accuracy │   hits_at_k │\n",
            "╞════════════╪════════╪════════════╪═════════════╡\n",
            "│ train      │ 3.2823 │     0.0904 │      0.2009 │\n",
            "├────────────┼────────┼────────────┼─────────────┤\n",
            "│ vali       │ 3.2871 │     0.0851 │      0.1962 │\n",
            "├────────────┼────────┼────────────┼─────────────┤\n",
            "│ test       │ 3.3021 │     0.0828 │      0.1897 │\n",
            "╘════════════╧════════╧════════════╧═════════════╛\n",
            "Validation loss on combined improved, model saved\n",
            "\n",
            "\n",
            "Epoch   3\n",
            "Training: 100% 282/282 [00:17<00:00, 16.92it/s]\n",
            "Evaluation train: 100% 282/282 [00:04<00:00, 59.96it/s]\n",
            "Evaluation vali : 100% 40/40 [00:00<00:00, 59.63it/s]\n",
            "Evaluation test : 100% 80/80 [00:01<00:00, 60.28it/s]\n",
            "Took 23.9664s\n",
            "╒════════════╤════════╤════════════╤═════════════╕\n",
            "│ CATEGORY   │   loss │   accuracy │   hits_at_k │\n",
            "╞════════════╪════════╪════════════╪═════════════╡\n",
            "│ train      │ 3.2728 │     0.0940 │      0.2102 │\n",
            "├────────────┼────────┼────────────┼─────────────┤\n",
            "│ vali       │ 3.2773 │     0.0898 │      0.2071 │\n",
            "├────────────┼────────┼────────────┼─────────────┤\n",
            "│ test       │ 3.2966 │     0.0838 │      0.1968 │\n",
            "╘════════════╧════════╧════════════╧═════════════╛\n",
            "Validation loss on combined improved, model saved\n",
            "\n",
            "\n",
            "Epoch   4\n",
            "Training: 100% 282/282 [00:17<00:00, 16.86it/s]\n",
            "Evaluation train: 100% 282/282 [00:04<00:00, 59.63it/s]\n",
            "Evaluation vali : 100% 40/40 [00:00<00:00, 61.04it/s]\n",
            "Evaluation test : 100% 80/80 [00:01<00:00, 59.69it/s]\n",
            "Took 23.9503s\n",
            "╒════════════╤════════╤════════════╤═════════════╕\n",
            "│ CATEGORY   │   loss │   accuracy │   hits_at_k │\n",
            "╞════════════╪════════╪════════════╪═════════════╡\n",
            "│ train      │ 3.2530 │     0.0970 │      0.2159 │\n",
            "├────────────┼────────┼────────────┼─────────────┤\n",
            "│ vali       │ 3.2623 │     0.0926 │      0.2081 │\n",
            "├────────────┼────────┼────────────┼─────────────┤\n",
            "│ test       │ 3.2824 │     0.0884 │      0.2033 │\n",
            "╘════════════╧════════╧════════════╧═════════════╛\n",
            "Validation loss on combined improved, model saved\n",
            "\n",
            "\n",
            "Epoch   5\n",
            "Training: 100% 282/282 [00:17<00:00, 16.83it/s]\n",
            "Evaluation train: 100% 282/282 [00:04<00:00, 60.61it/s]\n",
            "Evaluation vali : 100% 40/40 [00:00<00:00, 59.69it/s]\n",
            "Evaluation test : 100% 80/80 [00:01<00:00, 60.04it/s]\n",
            "Took 23.9652s\n",
            "╒════════════╤════════╤════════════╤═════════════╕\n",
            "│ CATEGORY   │   loss │   accuracy │   hits_at_k │\n",
            "╞════════════╪════════╪════════════╪═════════════╡\n",
            "│ train      │ 3.2445 │     0.0983 │      0.2182 │\n",
            "├────────────┼────────┼────────────┼─────────────┤\n",
            "│ vali       │ 3.2562 │     0.0908 │      0.2130 │\n",
            "├────────────┼────────┼────────────┼─────────────┤\n",
            "│ test       │ 3.2762 │     0.0875 │      0.2024 │\n",
            "╘════════════╧════════╧════════════╧═════════════╛\n",
            "Validation loss on combined improved, model saved\n",
            "\n",
            "\n",
            "Epoch   6\n",
            "Training: 100% 282/282 [00:17<00:00, 16.85it/s]\n",
            "Evaluation train: 100% 282/282 [00:04<00:00, 59.89it/s]\n",
            "Evaluation vali : 100% 40/40 [00:00<00:00, 60.76it/s]\n",
            "Evaluation test : 100% 80/80 [00:01<00:00, 60.00it/s]\n",
            "Took 23.9497s\n",
            "╒════════════╤════════╤════════════╤═════════════╕\n",
            "│ CATEGORY   │   loss │   accuracy │   hits_at_k │\n",
            "╞════════════╪════════╪════════════╪═════════════╡\n",
            "│ train      │ 3.2367 │     0.1004 │      0.2211 │\n",
            "├────────────┼────────┼────────────┼─────────────┤\n",
            "│ vali       │ 3.2543 │     0.0898 │      0.2098 │\n",
            "├────────────┼────────┼────────────┼─────────────┤\n",
            "│ test       │ 3.2740 │     0.0868 │      0.2043 │\n",
            "╘════════════╧════════╧════════════╧═════════════╛\n",
            "Validation loss on combined improved, model saved\n",
            "\n",
            "\n",
            "Epoch   7\n",
            "Training: 100% 282/282 [00:17<00:00, 16.83it/s]\n",
            "Evaluation train: 100% 282/282 [00:04<00:00, 60.08it/s]\n",
            "Evaluation vali : 100% 40/40 [00:00<00:00, 61.33it/s]\n",
            "Evaluation test : 100% 80/80 [00:01<00:00, 60.27it/s]\n",
            "Took 23.9176s\n",
            "╒════════════╤════════╤════════════╤═════════════╕\n",
            "│ CATEGORY   │   loss │   accuracy │   hits_at_k │\n",
            "╞════════════╪════════╪════════════╪═════════════╡\n",
            "│ train      │ 3.2357 │     0.1012 │      0.2220 │\n",
            "├────────────┼────────┼────────────┼─────────────┤\n",
            "│ vali       │ 3.2567 │     0.0916 │      0.2108 │\n",
            "├────────────┼────────┼────────────┼─────────────┤\n",
            "│ test       │ 3.2771 │     0.0880 │      0.2010 │\n",
            "╘════════════╧════════╧════════════╧═════════════╛\n",
            "Last improvement of loss on combined happened 1 epoch ago\n",
            "\n",
            "\n",
            "Epoch   8\n",
            "Training: 100% 282/282 [00:17<00:00, 16.75it/s]\n",
            "Evaluation train: 100% 282/282 [00:04<00:00, 59.96it/s]\n",
            "Evaluation vali : 100% 40/40 [00:00<00:00, 60.53it/s]\n",
            "Evaluation test : 100% 80/80 [00:01<00:00, 60.30it/s]\n",
            "Took 23.9056s\n",
            "╒════════════╤════════╤════════════╤═════════════╕\n",
            "│ CATEGORY   │   loss │   accuracy │   hits_at_k │\n",
            "╞════════════╪════════╪════════════╪═════════════╡\n",
            "│ train      │ 3.2256 │     0.1046 │      0.2259 │\n",
            "├────────────┼────────┼────────────┼─────────────┤\n",
            "│ vali       │ 3.2541 │     0.0934 │      0.2114 │\n",
            "├────────────┼────────┼────────────┼─────────────┤\n",
            "│ test       │ 3.2751 │     0.0913 │      0.1995 │\n",
            "╘════════════╧════════╧════════════╧═════════════╛\n",
            "Validation loss on combined improved, model saved\n",
            "\n",
            "\n",
            "Epoch   9\n",
            "Training: 100% 282/282 [00:17<00:00, 16.76it/s]\n",
            "Evaluation train: 100% 282/282 [00:04<00:00, 60.44it/s]\n",
            "Evaluation vali : 100% 40/40 [00:00<00:00, 61.39it/s]\n",
            "Evaluation test : 100% 80/80 [00:01<00:00, 60.05it/s]\n",
            "Took 23.9047s\n",
            "╒════════════╤════════╤════════════╤═════════════╕\n",
            "│ CATEGORY   │   loss │   accuracy │   hits_at_k │\n",
            "╞════════════╪════════╪════════════╪═════════════╡\n",
            "│ train      │ 3.2222 │     0.1041 │      0.2277 │\n",
            "├────────────┼────────┼────────────┼─────────────┤\n",
            "│ vali       │ 3.2547 │     0.0962 │      0.2164 │\n",
            "├────────────┼────────┼────────────┼─────────────┤\n",
            "│ test       │ 3.2755 │     0.0917 │      0.2004 │\n",
            "╘════════════╧════════╧════════════╧═════════════╛\n",
            "Last improvement of loss on combined happened 1 epoch ago\n",
            "\n",
            "\n",
            "Epoch  10\n",
            "Training: 100% 282/282 [00:17<00:00, 16.97it/s]\n",
            "Evaluation train: 100% 282/282 [00:04<00:00, 59.94it/s]\n",
            "Evaluation vali : 100% 40/40 [00:00<00:00, 61.11it/s]\n",
            "Evaluation test : 100% 80/80 [00:01<00:00, 59.82it/s]\n",
            "Took 23.9255s\n",
            "╒════════════╤════════╤════════════╤═════════════╕\n",
            "│ CATEGORY   │   loss │   accuracy │   hits_at_k │\n",
            "╞════════════╪════════╪════════════╪═════════════╡\n",
            "│ train      │ 3.2181 │     0.1053 │      0.2331 │\n",
            "├────────────┼────────┼────────────┼─────────────┤\n",
            "│ vali       │ 3.2575 │     0.0958 │      0.2196 │\n",
            "├────────────┼────────┼────────────┼─────────────┤\n",
            "│ test       │ 3.2789 │     0.0886 │      0.2082 │\n",
            "╘════════════╧════════╧════════════╧═════════════╛\n",
            "Last improvement of loss on combined happened 2 epochs ago\n",
            "\n",
            "\n",
            "Epoch  11\n",
            "Training: 100% 282/282 [00:17<00:00, 16.88it/s]\n",
            "Evaluation train: 100% 282/282 [00:04<00:00, 59.83it/s]\n",
            "Evaluation vali : 100% 40/40 [00:00<00:00, 60.48it/s]\n",
            "Evaluation test : 100% 80/80 [00:01<00:00, 60.10it/s]\n",
            "Took 23.8798s\n",
            "╒════════════╤════════╤════════════╤═════════════╕\n",
            "│ CATEGORY   │   loss │   accuracy │   hits_at_k │\n",
            "╞════════════╪════════╪════════════╪═════════════╡\n",
            "│ train      │ 3.2211 │     0.1051 │      0.2338 │\n",
            "├────────────┼────────┼────────────┼─────────────┤\n",
            "│ vali       │ 3.2667 │     0.0936 │      0.2140 │\n",
            "├────────────┼────────┼────────────┼─────────────┤\n",
            "│ test       │ 3.2868 │     0.0891 │      0.2045 │\n",
            "╘════════════╧════════╧════════════╧═════════════╛\n",
            "Last improvement of loss on combined happened 3 epochs ago\n",
            "\n",
            "EARLY STOPPING due to lack of validation improvement, it has been 3 epochs since last validation accuracy improvement\n",
            "\n",
            "Best validation model epoch: 8\n",
            "Best validation model loss on validation set combined: 3.2541212318720016\n",
            "Best validation model loss on test set combined: 3.275094079606602\n",
            "\n",
            "╒═════════╕\n",
            "│ PREDICT │\n",
            "╘═════════╛\n",
            "\n",
            "Evaluation: 100% 80/80 [00:01<00:00, 57.96it/s]\n",
            "\n",
            "===== CATEGORY =====\n",
            "accuracy: 0.0891351245342224\n",
            "hits_at_k: 0.20445185330456953\n",
            "loss: 3.286845474856628\n",
            "overall_stats: { 'avg_f1_score_macro': 0.06812071846149517,\n",
            "  'avg_f1_score_micro': 0.0891351245342224,\n",
            "  'avg_f1_score_weighted': 0.06790552679270521,\n",
            "  'avg_precision_macro': 0.09177260758729153,\n",
            "  'avg_precision_micro': 0.0891351245342224,\n",
            "  'avg_precision_weighted': 0.0891351245342224,\n",
            "  'avg_recall_macro': 0.09056387599530688,\n",
            "  'avg_recall_micro': 0.0891351245342224,\n",
            "  'avg_recall_weighted': 0.0891351245342224,\n",
            "  'kappa_score': 0.058034041734078334,\n",
            "  'overall_accuracy': 0.0891351245342224}\n",
            "per_class_stats: {<UNK>: {   'accuracy': 1.0,\n",
            "    'f1_score': 0,\n",
            "    'fall_out': 0.0,\n",
            "    'false_discovery_rate': 1.0,\n",
            "    'false_negative_rate': 1.0,\n",
            "    'false_negatives': 0,\n",
            "    'false_omission_rate': 0.0,\n",
            "    'false_positive_rate': 0.0,\n",
            "    'false_positives': 0,\n",
            "    'hit_rate': 0,\n",
            "    'informedness': 0.0,\n",
            "    'markedness': 0.0,\n",
            "    'matthews_correlation_coefficient': 0,\n",
            "    'miss_rate': 1.0,\n",
            "    'negative_predictive_value': 1.0,\n",
            "    'positive_predictive_value': 0,\n",
            "    'precision': 0,\n",
            "    'recall': 0,\n",
            "    'sensitivity': 0,\n",
            "    'specificity': 1.0,\n",
            "    'true_negative_rate': 1.0,\n",
            "    'true_negatives': 10198,\n",
            "    'true_positive_rate': 0,\n",
            "    'true_positives': 0},\n",
            "  Children's Books: {   'accuracy': 0.9269464600902138,\n",
            "    'f1_score': 0.10991636798088411,\n",
            "    'fall_out': 0.02880446004542636,\n",
            "    'false_discovery_rate': 0.8584615384615385,\n",
            "    'false_negative_rate': 0.91015625,\n",
            "    'false_negatives': 466,\n",
            "    'false_omission_rate': 0.04719943279651573,\n",
            "    'false_positive_rate': 0.02880446004542636,\n",
            "    'false_positives': 279,\n",
            "    'hit_rate': 0.08984375,\n",
            "    'informedness': 0.06103928995457375,\n",
            "    'markedness': 0.09433902874194589,\n",
            "    'matthews_correlation_coefficient': 0.07588403869993006,\n",
            "    'miss_rate': 0.91015625,\n",
            "    'negative_predictive_value': 0.9528005672034843,\n",
            "    'positive_predictive_value': 0.14153846153846153,\n",
            "    'precision': 0.14153846153846153,\n",
            "    'recall': 0.08984375,\n",
            "    'sensitivity': 0.08984375,\n",
            "    'specificity': 0.9711955399545736,\n",
            "    'true_negative_rate': 0.9711955399545736,\n",
            "    'true_negatives': 9407,\n",
            "    'true_positive_rate': 0.08984375,\n",
            "    'true_positives': 46},\n",
            "  Engineering & Transportation: {   'accuracy': 0.963326142380859,\n",
            "    'f1_score': 0.04591836734693878,\n",
            "    'fall_out': 0.029946629768728972,\n",
            "    'false_discovery_rate': 0.9711538461538461,\n",
            "    'false_negative_rate': 0.8875,\n",
            "    'false_negatives': 71,\n",
            "    'false_omission_rate': 0.0071818733562614145,\n",
            "    'false_positive_rate': 0.029946629768728972,\n",
            "    'false_positives': 303,\n",
            "    'hit_rate': 0.1125,\n",
            "    'informedness': 0.08255337023127107,\n",
            "    'markedness': 0.02166428048989233,\n",
            "    'matthews_correlation_coefficient': 0.042290180516003875,\n",
            "    'miss_rate': 0.8875,\n",
            "    'negative_predictive_value': 0.9928181266437386,\n",
            "    'positive_predictive_value': 0.028846153846153848,\n",
            "    'precision': 0.028846153846153848,\n",
            "    'recall': 0.1125,\n",
            "    'sensitivity': 0.1125,\n",
            "    'specificity': 0.970053370231271,\n",
            "    'true_negative_rate': 0.970053370231271,\n",
            "    'true_negatives': 9815,\n",
            "    'true_positive_rate': 0.1125,\n",
            "    'true_positives': 9},\n",
            "  Christian Books & Bibles: {   'accuracy': 0.9656795450088252,\n",
            "    'f1_score': 0.005681818181818181,\n",
            "    'fall_out': 0.034229109454688156,\n",
            "    'false_discovery_rate': 0.9971428571428571,\n",
            "    'false_negative_rate': 0.5,\n",
            "    'false_negatives': 1,\n",
            "    'false_omission_rate': 0.00010154346060109454,\n",
            "    'false_positive_rate': 0.034229109454688156,\n",
            "    'false_positives': 349,\n",
            "    'hit_rate': 0.5,\n",
            "    'informedness': 0.46577089054531173,\n",
            "    'markedness': 0.002755599396541797,\n",
            "    'matthews_correlation_coefficient': 0.035825660983621235,\n",
            "    'miss_rate': 0.5,\n",
            "    'negative_predictive_value': 0.9998984565393989,\n",
            "    'positive_predictive_value': 0.002857142857142857,\n",
            "    'precision': 0.002857142857142857,\n",
            "    'recall': 0.5,\n",
            "    'sensitivity': 0.5,\n",
            "    'specificity': 0.9657708905453118,\n",
            "    'true_negative_rate': 0.9657708905453118,\n",
            "    'true_negatives': 9847,\n",
            "    'true_positive_rate': 0.5,\n",
            "    'true_positives': 1},\n",
            "  Sports & Outdoors: {   'accuracy': 0.963424200823691,\n",
            "    'f1_score': 0,\n",
            "    'fall_out': 0.03297244094488194,\n",
            "    'false_discovery_rate': 1.0,\n",
            "    'false_negative_rate': 1.0,\n",
            "    'false_negatives': 38,\n",
            "    'false_omission_rate': 0.0038527831288655,\n",
            "    'false_positive_rate': 0.03297244094488194,\n",
            "    'false_positives': 335,\n",
            "    'hit_rate': 0.0,\n",
            "    'informedness': -0.03297244094488194,\n",
            "    'markedness': -0.0038527831288655,\n",
            "    'matthews_correlation_coefficient': -0.011271009901067143,\n",
            "    'miss_rate': 1.0,\n",
            "    'negative_predictive_value': 0.9961472168711345,\n",
            "    'positive_predictive_value': 0.0,\n",
            "    'precision': 0.0,\n",
            "    'recall': 0.0,\n",
            "    'sensitivity': 0.0,\n",
            "    'specificity': 0.9670275590551181,\n",
            "    'true_negative_rate': 0.9670275590551181,\n",
            "    'true_negatives': 9825,\n",
            "    'true_positive_rate': 0.0,\n",
            "    'true_positives': 0},\n",
            "  Health, Fitness & Dieting: {   'accuracy': 0.9297901549323396,\n",
            "    'f1_score': 0.0427807486631016,\n",
            "    'fall_out': 0.03329248366013071,\n",
            "    'false_discovery_rate': 0.9532163742690059,\n",
            "    'false_negative_rate': 0.9605911330049262,\n",
            "    'false_negatives': 390,\n",
            "    'false_omission_rate': 0.03956980519480524,\n",
            "    'false_positive_rate': 0.03329248366013071,\n",
            "    'false_positives': 326,\n",
            "    'hit_rate': 0.03940886699507389,\n",
            "    'informedness': 0.006116383334943132,\n",
            "    'markedness': 0.0072138205361889085,\n",
            "    'matthews_correlation_coefficient': 0.0066424763235420695,\n",
            "    'miss_rate': 0.9605911330049262,\n",
            "    'negative_predictive_value': 0.9604301948051948,\n",
            "    'positive_predictive_value': 0.04678362573099415,\n",
            "    'precision': 0.04678362573099415,\n",
            "    'recall': 0.03940886699507389,\n",
            "    'sensitivity': 0.03940886699507389,\n",
            "    'specificity': 0.9667075163398693,\n",
            "    'true_negative_rate': 0.9667075163398693,\n",
            "    'true_negatives': 9466,\n",
            "    'true_positive_rate': 0.03940886699507389,\n",
            "    'true_positives': 16},\n",
            "  Medical Books: {   'accuracy': 0.9540105903118259,\n",
            "    'f1_score': 0.07495069033530573,\n",
            "    'fall_out': 0.0315180530620387,\n",
            "    'false_discovery_rate': 0.9432835820895522,\n",
            "    'false_negative_rate': 0.8895348837209303,\n",
            "    'false_negatives': 153,\n",
            "    'false_omission_rate': 0.0155125215451688,\n",
            "    'false_positive_rate': 0.0315180530620387,\n",
            "    'false_positives': 316,\n",
            "    'hit_rate': 0.11046511627906977,\n",
            "    'informedness': 0.07894706321703104,\n",
            "    'markedness': 0.04120389636527899,\n",
            "    'matthews_correlation_coefficient': 0.05703443355673547,\n",
            "    'miss_rate': 0.8895348837209303,\n",
            "    'negative_predictive_value': 0.9844874784548312,\n",
            "    'positive_predictive_value': 0.056716417910447764,\n",
            "    'precision': 0.056716417910447764,\n",
            "    'recall': 0.11046511627906977,\n",
            "    'sensitivity': 0.11046511627906977,\n",
            "    'specificity': 0.9684819469379613,\n",
            "    'true_negative_rate': 0.9684819469379613,\n",
            "    'true_negatives': 9710,\n",
            "    'true_positive_rate': 0.11046511627906977,\n",
            "    'true_positives': 19},\n",
            "  Science & Math: {   'accuracy': 0.9558737007256325,\n",
            "    'f1_score': 0.030172413793103446,\n",
            "    'fall_out': 0.036212525972098564,\n",
            "    'false_discovery_rate': 0.9812332439678284,\n",
            "    'false_negative_rate': 0.9230769230769231,\n",
            "    'false_negatives': 84,\n",
            "    'false_omission_rate': 0.008549618320610741,\n",
            "    'false_positive_rate': 0.036212525972098564,\n",
            "    'false_positives': 366,\n",
            "    'hit_rate': 0.07692307692307693,\n",
            "    'informedness': 0.04071055095097842,\n",
            "    'markedness': 0.010217137711560742,\n",
            "    'matthews_correlation_coefficient': 0.020394737198102416,\n",
            "    'miss_rate': 0.9230769230769231,\n",
            "    'negative_predictive_value': 0.9914503816793893,\n",
            "    'positive_predictive_value': 0.01876675603217158,\n",
            "    'precision': 0.01876675603217158,\n",
            "    'recall': 0.07692307692307693,\n",
            "    'sensitivity': 0.07692307692307693,\n",
            "    'specificity': 0.9637874740279014,\n",
            "    'true_negative_rate': 0.9637874740279014,\n",
            "    'true_negatives': 9741,\n",
            "    'true_positive_rate': 0.07692307692307693,\n",
            "    'true_positives': 7},\n",
            "  Travel: {   'accuracy': 0.9540105903118259,\n",
            "    'f1_score': 0.016771488469601678,\n",
            "    'fall_out': 0.030505433157212658,\n",
            "    'false_discovery_rate': 0.9870967741935484,\n",
            "    'false_negative_rate': 0.9760479041916168,\n",
            "    'false_negatives': 163,\n",
            "    'false_omission_rate': 0.016484627831715226,\n",
            "    'false_positive_rate': 0.030505433157212658,\n",
            "    'false_positives': 306,\n",
            "    'hit_rate': 0.023952095808383235,\n",
            "    'informedness': -0.006553337348829458,\n",
            "    'markedness': -0.0035814020252635803,\n",
            "    'matthews_correlation_coefficient': -0.004844598606007852,\n",
            "    'miss_rate': 0.9760479041916168,\n",
            "    'negative_predictive_value': 0.9835153721682848,\n",
            "    'positive_predictive_value': 0.012903225806451613,\n",
            "    'precision': 0.012903225806451613,\n",
            "    'recall': 0.023952095808383235,\n",
            "    'sensitivity': 0.023952095808383235,\n",
            "    'specificity': 0.9694945668427873,\n",
            "    'true_negative_rate': 0.9694945668427873,\n",
            "    'true_negatives': 9725,\n",
            "    'true_positive_rate': 0.023952095808383235,\n",
            "    'true_positives': 4},\n",
            "  Business & Money: {   'accuracy': 0.9681310060796234,\n",
            "    'f1_score': 0,\n",
            "    'fall_out': 0.030823598704230903,\n",
            "    'false_discovery_rate': 1.0,\n",
            "    'false_negative_rate': 1.0,\n",
            "    'false_negatives': 11,\n",
            "    'false_omission_rate': 0.0011129097531363819,\n",
            "    'false_positive_rate': 0.030823598704230903,\n",
            "    'false_positives': 314,\n",
            "    'hit_rate': 0.0,\n",
            "    'informedness': -0.030823598704230903,\n",
            "    'markedness': -0.0011129097531363819,\n",
            "    'matthews_correlation_coefficient': -0.00585695173487886,\n",
            "    'miss_rate': 1.0,\n",
            "    'negative_predictive_value': 0.9988870902468636,\n",
            "    'positive_predictive_value': 0.0,\n",
            "    'precision': 0.0,\n",
            "    'recall': 0.0,\n",
            "    'sensitivity': 0.0,\n",
            "    'specificity': 0.9691764012957691,\n",
            "    'true_negative_rate': 0.9691764012957691,\n",
            "    'true_negatives': 9873,\n",
            "    'true_positive_rate': 0.0,\n",
            "    'true_positives': 0},\n",
            "  Cookbooks, Food & Wine: {   'accuracy': 0.9595018631104139,\n",
            "    'f1_score': 0.019002375296912115,\n",
            "    'fall_out': 0.03492846571287622,\n",
            "    'false_discovery_rate': 0.9888268156424581,\n",
            "    'false_negative_rate': 0.9365079365079365,\n",
            "    'false_negatives': 59,\n",
            "    'false_omission_rate': 0.00599593495934958,\n",
            "    'false_positive_rate': 0.03492846571287622,\n",
            "    'false_positives': 354,\n",
            "    'hit_rate': 0.06349206349206349,\n",
            "    'informedness': 0.028563597779187155,\n",
            "    'markedness': 0.005177249398192307,\n",
            "    'matthews_correlation_coefficient': 0.012160627837924515,\n",
            "    'miss_rate': 0.9365079365079365,\n",
            "    'negative_predictive_value': 0.9940040650406504,\n",
            "    'positive_predictive_value': 0.0111731843575419,\n",
            "    'precision': 0.0111731843575419,\n",
            "    'recall': 0.06349206349206349,\n",
            "    'sensitivity': 0.06349206349206349,\n",
            "    'specificity': 0.9650715342871238,\n",
            "    'true_negative_rate': 0.9650715342871238,\n",
            "    'true_negatives': 9781,\n",
            "    'true_positive_rate': 0.06349206349206349,\n",
            "    'true_positives': 4},\n",
            "  Politics & Social Sciences: {   'accuracy': 0.928025102961365,\n",
            "    'f1_score': 0.0516795865633075,\n",
            "    'fall_out': 0.035834609494640124,\n",
            "    'false_discovery_rate': 0.9460916442048517,\n",
            "    'false_negative_rate': 0.9503722084367245,\n",
            "    'false_negatives': 383,\n",
            "    'false_omission_rate': 0.03897425460466064,\n",
            "    'false_positive_rate': 0.035834609494640124,\n",
            "    'false_positives': 351,\n",
            "    'hit_rate': 0.04962779156327544,\n",
            "    'informedness': 0.013793182068635224,\n",
            "    'markedness': 0.014934101190487548,\n",
            "    'matthews_correlation_coefficient': 0.01435230910870509,\n",
            "    'miss_rate': 0.9503722084367245,\n",
            "    'negative_predictive_value': 0.9610257453953394,\n",
            "    'positive_predictive_value': 0.05390835579514825,\n",
            "    'precision': 0.05390835579514825,\n",
            "    'recall': 0.04962779156327544,\n",
            "    'sensitivity': 0.04962779156327544,\n",
            "    'specificity': 0.9641653905053599,\n",
            "    'true_negative_rate': 0.9641653905053599,\n",
            "    'true_negatives': 9444,\n",
            "    'true_positive_rate': 0.04962779156327544,\n",
            "    'true_positives': 20},\n",
            "  Crafts, Hobbies & Home: {   'accuracy': 0.9681310060796234,\n",
            "    'f1_score': 0,\n",
            "    'fall_out': 0.0312990580847724,\n",
            "    'false_discovery_rate': 1.0,\n",
            "    'false_negative_rate': 1.0,\n",
            "    'false_negatives': 6,\n",
            "    'false_omission_rate': 0.000607348921955686,\n",
            "    'false_positive_rate': 0.0312990580847724,\n",
            "    'false_positives': 319,\n",
            "    'hit_rate': 0.0,\n",
            "    'informedness': -0.0312990580847724,\n",
            "    'markedness': -0.000607348921955686,\n",
            "    'matthews_correlation_coefficient': -0.004359982704783838,\n",
            "    'miss_rate': 1.0,\n",
            "    'negative_predictive_value': 0.9993926510780443,\n",
            "    'positive_predictive_value': 0.0,\n",
            "    'precision': 0.0,\n",
            "    'recall': 0.0,\n",
            "    'sensitivity': 0.0,\n",
            "    'specificity': 0.9687009419152276,\n",
            "    'true_negative_rate': 0.9687009419152276,\n",
            "    'true_negatives': 9873,\n",
            "    'true_positive_rate': 0.0,\n",
            "    'true_positives': 0},\n",
            "  Religion & Spirituality: {   'accuracy': 0.957834869582271,\n",
            "    'f1_score': 0.009216589861751152,\n",
            "    'fall_out': 0.03517091483896462,\n",
            "    'false_discovery_rate': 0.994413407821229,\n",
            "    'false_negative_rate': 0.9736842105263158,\n",
            "    'false_negatives': 74,\n",
            "    'false_omission_rate': 0.007520325203252076,\n",
            "    'false_positive_rate': 0.03517091483896462,\n",
            "    'false_positives': 356,\n",
            "    'hit_rate': 0.02631578947368421,\n",
            "    'informedness': -0.008855125365280436,\n",
            "    'markedness': -0.0019337330244810769,\n",
            "    'matthews_correlation_coefficient': -0.004138048858431092,\n",
            "    'miss_rate': 0.9736842105263158,\n",
            "    'negative_predictive_value': 0.9924796747967479,\n",
            "    'positive_predictive_value': 0.00558659217877095,\n",
            "    'precision': 0.00558659217877095,\n",
            "    'recall': 0.02631578947368421,\n",
            "    'sensitivity': 0.02631578947368421,\n",
            "    'specificity': 0.9648290851610354,\n",
            "    'true_negative_rate': 0.9648290851610354,\n",
            "    'true_negatives': 9766,\n",
            "    'true_positive_rate': 0.02631578947368421,\n",
            "    'true_positives': 2},\n",
            "  Literature & Fiction: {   'accuracy': 0.9111590507942734,\n",
            "    'f1_score': 0.12884615384615386,\n",
            "    'fall_out': 0.03088559722659945,\n",
            "    'false_discovery_rate': 0.814404432132964,\n",
            "    'false_negative_rate': 0.9013254786450663,\n",
            "    'false_negatives': 612,\n",
            "    'false_omission_rate': 0.06221408966148212,\n",
            "    'false_positive_rate': 0.03088559722659945,\n",
            "    'false_positives': 294,\n",
            "    'hit_rate': 0.09867452135493372,\n",
            "    'informedness': 0.06778892412833426,\n",
            "    'markedness': 0.12338147820555401,\n",
            "    'matthews_correlation_coefficient': 0.09145434743585469,\n",
            "    'miss_rate': 0.9013254786450663,\n",
            "    'negative_predictive_value': 0.9377859103385179,\n",
            "    'positive_predictive_value': 0.18559556786703602,\n",
            "    'precision': 0.18559556786703602,\n",
            "    'recall': 0.09867452135493372,\n",
            "    'sensitivity': 0.09867452135493372,\n",
            "    'specificity': 0.9691144027734006,\n",
            "    'true_negative_rate': 0.9691144027734006,\n",
            "    'true_negatives': 9225,\n",
            "    'true_positive_rate': 0.09867452135493372,\n",
            "    'true_positives': 67},\n",
            "  Humor & Entertainment: {   'accuracy': 0.9680329476367915,\n",
            "    'f1_score': 0,\n",
            "    'fall_out': 0.031492200529775305,\n",
            "    'false_discovery_rate': 1.0,\n",
            "    'false_negative_rate': 1.0,\n",
            "    'false_negatives': 5,\n",
            "    'false_omission_rate': 0.0005062265870203753,\n",
            "    'false_positive_rate': 0.031492200529775305,\n",
            "    'false_positives': 321,\n",
            "    'hit_rate': 0.0,\n",
            "    'informedness': -0.031492200529775305,\n",
            "    'markedness': -0.0005062265870203753,\n",
            "    'matthews_correlation_coefficient': -0.003992767109655738,\n",
            "    'miss_rate': 1.0,\n",
            "    'negative_predictive_value': 0.9994937734129796,\n",
            "    'positive_predictive_value': 0.0,\n",
            "    'precision': 0.0,\n",
            "    'recall': 0.0,\n",
            "    'sensitivity': 0.0,\n",
            "    'specificity': 0.9685077994702247,\n",
            "    'true_negative_rate': 0.9685077994702247,\n",
            "    'true_negatives': 9872,\n",
            "    'true_positive_rate': 0.0,\n",
            "    'true_positives': 0},\n",
            "  Law: {   'accuracy': 0.9264561678760541,\n",
            "    'f1_score': 0.05778894472361809,\n",
            "    'fall_out': 0.03343246846477288,\n",
            "    'false_discovery_rate': 0.9340974212034384,\n",
            "    'false_negative_rate': 0.9485458612975392,\n",
            "    'false_negatives': 424,\n",
            "    'false_omission_rate': 0.04305005584323285,\n",
            "    'false_positive_rate': 0.03343246846477288,\n",
            "    'false_positives': 326,\n",
            "    'hit_rate': 0.05145413870246085,\n",
            "    'informedness': 0.01802167023768808,\n",
            "    'markedness': 0.022852522953328736,\n",
            "    'matthews_correlation_coefficient': 0.020293857020391354,\n",
            "    'miss_rate': 0.9485458612975392,\n",
            "    'negative_predictive_value': 0.9569499441567672,\n",
            "    'positive_predictive_value': 0.0659025787965616,\n",
            "    'precision': 0.0659025787965616,\n",
            "    'recall': 0.05145413870246085,\n",
            "    'sensitivity': 0.05145413870246085,\n",
            "    'specificity': 0.9665675315352271,\n",
            "    'true_negative_rate': 0.9665675315352271,\n",
            "    'true_negatives': 9425,\n",
            "    'true_positive_rate': 0.05145413870246085,\n",
            "    'true_positives': 23},\n",
            "  Computers & Technology: {   'accuracy': 0.9531280643263385,\n",
            "    'f1_score': 0.047808764940239036,\n",
            "    'fall_out': 0.03508597554915016,\n",
            "    'false_discovery_rate': 0.9671232876712329,\n",
            "    'false_negative_rate': 0.9124087591240876,\n",
            "    'false_negatives': 125,\n",
            "    'false_omission_rate': 0.01271229533204521,\n",
            "    'false_positive_rate': 0.03508597554915016,\n",
            "    'false_positives': 353,\n",
            "    'hit_rate': 0.08759124087591241,\n",
            "    'informedness': 0.05250526532676236,\n",
            "    'markedness': 0.02016441699672189,\n",
            "    'matthews_correlation_coefficient': 0.03253825540148643,\n",
            "    'miss_rate': 0.9124087591240876,\n",
            "    'negative_predictive_value': 0.9872877046679548,\n",
            "    'positive_predictive_value': 0.03287671232876712,\n",
            "    'precision': 0.03287671232876712,\n",
            "    'recall': 0.08759124087591241,\n",
            "    'sensitivity': 0.08759124087591241,\n",
            "    'specificity': 0.9649140244508498,\n",
            "    'true_negative_rate': 0.9649140244508498,\n",
            "    'true_negatives': 9708,\n",
            "    'true_positive_rate': 0.08759124087591241,\n",
            "    'true_positives': 12},\n",
            "  Test Preparation: {   'accuracy': 0.9327319082172975,\n",
            "    'f1_score': 0.15099009900990099,\n",
            "    'fall_out': 0.027274598600247058,\n",
            "    'false_discovery_rate': 0.8128834355828221,\n",
            "    'false_negative_rate': 0.8734439834024896,\n",
            "    'false_negatives': 421,\n",
            "    'false_omission_rate': 0.04264586709886553,\n",
            "    'false_positive_rate': 0.027274598600247058,\n",
            "    'false_positives': 265,\n",
            "    'hit_rate': 0.12655601659751037,\n",
            "    'informedness': 0.09928141799726342,\n",
            "    'markedness': 0.1444706973183123,\n",
            "    'matthews_correlation_coefficient': 0.11976333198778118,\n",
            "    'miss_rate': 0.8734439834024896,\n",
            "    'negative_predictive_value': 0.9573541329011345,\n",
            "    'positive_predictive_value': 0.18711656441717792,\n",
            "    'precision': 0.18711656441717792,\n",
            "    'recall': 0.12655601659751037,\n",
            "    'sensitivity': 0.12655601659751037,\n",
            "    'specificity': 0.9727254013997529,\n",
            "    'true_negative_rate': 0.9727254013997529,\n",
            "    'true_negatives': 9451,\n",
            "    'true_positive_rate': 0.12655601659751037,\n",
            "    'true_positives': 61},\n",
            "  Arts & Photography: {   'accuracy': 0.941557168072171,\n",
            "    'f1_score': 0.04487179487179488,\n",
            "    'fall_out': 0.03171076550191876,\n",
            "    'false_discovery_rate': 0.9573170731707317,\n",
            "    'false_negative_rate': 0.9527027027027027,\n",
            "    'false_negatives': 282,\n",
            "    'false_omission_rate': 0.02857142857142858,\n",
            "    'false_positive_rate': 0.03171076550191876,\n",
            "    'false_positives': 314,\n",
            "    'hit_rate': 0.0472972972972973,\n",
            "    'informedness': 0.0155865317953785,\n",
            "    'markedness': 0.014111498257839639,\n",
            "    'matthews_correlation_coefficient': 0.01483068832779676,\n",
            "    'miss_rate': 0.9527027027027027,\n",
            "    'negative_predictive_value': 0.9714285714285714,\n",
            "    'positive_predictive_value': 0.042682926829268296,\n",
            "    'precision': 0.042682926829268296,\n",
            "    'recall': 0.0472972972972973,\n",
            "    'sensitivity': 0.0472972972972973,\n",
            "    'specificity': 0.9682892344980812,\n",
            "    'true_negative_rate': 0.9682892344980812,\n",
            "    'true_negatives': 9588,\n",
            "    'true_positive_rate': 0.0472972972972973,\n",
            "    'true_positives': 14},\n",
            "  Parenting & Relationships: {   'accuracy': 0.9494018434987253,\n",
            "    'f1_score': 0.0851063829787234,\n",
            "    'fall_out': 0.035068438405435054,\n",
            "    'false_discovery_rate': 0.9359999999999999,\n",
            "    'false_negative_rate': 0.873015873015873,\n",
            "    'false_negatives': 165,\n",
            "    'false_omission_rate': 0.016797312430011146,\n",
            "    'false_positive_rate': 0.035068438405435054,\n",
            "    'false_positives': 351,\n",
            "    'hit_rate': 0.12698412698412698,\n",
            "    'informedness': 0.09191568857869203,\n",
            "    'markedness': 0.04720268756998891,\n",
            "    'matthews_correlation_coefficient': 0.0658685625375291,\n",
            "    'miss_rate': 0.873015873015873,\n",
            "    'negative_predictive_value': 0.9832026875699889,\n",
            "    'positive_predictive_value': 0.064,\n",
            "    'precision': 0.064,\n",
            "    'recall': 0.12698412698412698,\n",
            "    'sensitivity': 0.12698412698412698,\n",
            "    'specificity': 0.964931561594565,\n",
            "    'true_negative_rate': 0.964931561594565,\n",
            "    'true_negatives': 9658,\n",
            "    'true_positive_rate': 0.12698412698412698,\n",
            "    'true_positives': 24},\n",
            "  Romance: {   'accuracy': 0.9173367326926848,\n",
            "    'f1_score': 0.11542497376705142,\n",
            "    'fall_out': 0.030138700594431134,\n",
            "    'false_discovery_rate': 0.8401162790697674,\n",
            "    'false_negative_rate': 0.909688013136289,\n",
            "    'false_negatives': 554,\n",
            "    'false_omission_rate': 0.05622082403085038,\n",
            "    'false_positive_rate': 0.030138700594431134,\n",
            "    'false_positives': 289,\n",
            "    'hit_rate': 0.090311986863711,\n",
            "    'informedness': 0.06017328626927987,\n",
            "    'markedness': 0.10366289689938224,\n",
            "    'matthews_correlation_coefficient': 0.07897934648140213,\n",
            "    'miss_rate': 0.909688013136289,\n",
            "    'negative_predictive_value': 0.9437791759691496,\n",
            "    'positive_predictive_value': 0.15988372093023256,\n",
            "    'precision': 0.15988372093023256,\n",
            "    'recall': 0.090311986863711,\n",
            "    'sensitivity': 0.090311986863711,\n",
            "    'specificity': 0.9698612994055689,\n",
            "    'true_negative_rate': 0.9698612994055689,\n",
            "    'true_negatives': 9300,\n",
            "    'true_positive_rate': 0.090311986863711,\n",
            "    'true_positives': 55},\n",
            "  History: {   'accuracy': 0.9323396744459698,\n",
            "    'f1_score': 0.07999999999999999,\n",
            "    'fall_out': 0.030978427563643773,\n",
            "    'false_discovery_rate': 0.9099099099099099,\n",
            "    'false_negative_rate': 0.9280575539568345,\n",
            "    'false_negatives': 387,\n",
            "    'false_omission_rate': 0.0392295995945261,\n",
            "    'false_positive_rate': 0.030978427563643773,\n",
            "    'false_positives': 303,\n",
            "    'hit_rate': 0.07194244604316546,\n",
            "    'informedness': 0.04096401847952169,\n",
            "    'markedness': 0.05086049049556407,\n",
            "    'matthews_correlation_coefficient': 0.04564482525476266,\n",
            "    'miss_rate': 0.9280575539568345,\n",
            "    'negative_predictive_value': 0.9607704004054739,\n",
            "    'positive_predictive_value': 0.09009009009009009,\n",
            "    'precision': 0.09009009009009009,\n",
            "    'recall': 0.07194244604316546,\n",
            "    'sensitivity': 0.07194244604316546,\n",
            "    'specificity': 0.9690215724363562,\n",
            "    'true_negative_rate': 0.9690215724363562,\n",
            "    'true_negatives': 9478,\n",
            "    'true_positive_rate': 0.07194244604316546,\n",
            "    'true_positives': 30},\n",
            "  Comics & Graphic Novels: {   'accuracy': 0.9580309864679349,\n",
            "    'f1_score': 0.218978102189781,\n",
            "    'fall_out': 0.028708612583775106,\n",
            "    'false_discovery_rate': 0.8270893371757925,\n",
            "    'false_negative_rate': 0.7014925373134329,\n",
            "    'false_negatives': 141,\n",
            "    'false_omission_rate': 0.014313267688559561,\n",
            "    'false_positive_rate': 0.028708612583775106,\n",
            "    'false_positives': 287,\n",
            "    'hit_rate': 0.29850746268656714,\n",
            "    'informedness': 0.2697988501027919,\n",
            "    'markedness': 0.15859739513564786,\n",
            "    'matthews_correlation_coefficient': 0.20685597607247405,\n",
            "    'miss_rate': 0.7014925373134329,\n",
            "    'negative_predictive_value': 0.9856867323114404,\n",
            "    'positive_predictive_value': 0.1729106628242075,\n",
            "    'precision': 0.1729106628242075,\n",
            "    'recall': 0.29850746268656714,\n",
            "    'sensitivity': 0.29850746268656714,\n",
            "    'specificity': 0.9712913874162249,\n",
            "    'true_negative_rate': 0.9712913874162249,\n",
            "    'true_negatives': 9710,\n",
            "    'true_positive_rate': 0.29850746268656714,\n",
            "    'true_positives': 60},\n",
            "  Reference: {   'accuracy': 0.9581290449107668,\n",
            "    'f1_score': 0.027334851936218676,\n",
            "    'fall_out': 0.034220156265453494,\n",
            "    'false_discovery_rate': 0.9829545454545454,\n",
            "    'false_negative_rate': 0.9310344827586207,\n",
            "    'false_negatives': 81,\n",
            "    'false_omission_rate': 0.00822669104204754,\n",
            "    'false_positive_rate': 0.034220156265453494,\n",
            "    'false_positives': 346,\n",
            "    'hit_rate': 0.06896551724137931,\n",
            "    'informedness': 0.03474536097592584,\n",
            "    'markedness': 0.008818763503406934,\n",
            "    'matthews_correlation_coefficient': 0.01750460286002505,\n",
            "    'miss_rate': 0.9310344827586207,\n",
            "    'negative_predictive_value': 0.9917733089579525,\n",
            "    'positive_predictive_value': 0.017045454545454544,\n",
            "    'precision': 0.017045454545454544,\n",
            "    'recall': 0.06896551724137931,\n",
            "    'sensitivity': 0.06896551724137931,\n",
            "    'specificity': 0.9657798437345465,\n",
            "    'true_negative_rate': 0.9657798437345465,\n",
            "    'true_negatives': 9765,\n",
            "    'true_positive_rate': 0.06896551724137931,\n",
            "    'true_positives': 6},\n",
            "  Teen & Young Adult: {   'accuracy': 0.9515591292410277,\n",
            "    'f1_score': 0.04263565891472868,\n",
            "    'fall_out': 0.034176962933439636,\n",
            "    'false_discovery_rate': 0.9689265536723164,\n",
            "    'false_negative_rate': 0.9320987654320988,\n",
            "    'false_negatives': 151,\n",
            "    'false_omission_rate': 0.015339292970337315,\n",
            "    'false_positive_rate': 0.034176962933439636,\n",
            "    'false_positives': 343,\n",
            "    'hit_rate': 0.06790123456790123,\n",
            "    'informedness': 0.03372427163446168,\n",
            "    'markedness': 0.015734153357346292,\n",
            "    'matthews_correlation_coefficient': 0.023035252587315484,\n",
            "    'miss_rate': 0.9320987654320988,\n",
            "    'negative_predictive_value': 0.9846607070296627,\n",
            "    'positive_predictive_value': 0.031073446327683617,\n",
            "    'precision': 0.031073446327683617,\n",
            "    'recall': 0.06790123456790123,\n",
            "    'sensitivity': 0.06790123456790123,\n",
            "    'specificity': 0.9658230370665604,\n",
            "    'true_negative_rate': 0.9658230370665604,\n",
            "    'true_negatives': 9693,\n",
            "    'true_positive_rate': 0.06790123456790123,\n",
            "    'true_positives': 11},\n",
            "  Self-Help: {   'accuracy': 0.8456560109825456,\n",
            "    'f1_score': 0.11173814898419863,\n",
            "    'fall_out': 0.025380130330398987,\n",
            "    'false_discovery_rate': 0.691588785046729,\n",
            "    'false_negative_rate': 0.9317711922811854,\n",
            "    'false_negatives': 1352,\n",
            "    'false_omission_rate': 0.1368836691303027,\n",
            "    'false_positive_rate': 0.025380130330398987,\n",
            "    'false_positives': 222,\n",
            "    'hit_rate': 0.06822880771881461,\n",
            "    'informedness': 0.04284867738841558,\n",
            "    'markedness': 0.17152754582296836,\n",
            "    'matthews_correlation_coefficient': 0.08573055741213308,\n",
            "    'miss_rate': 0.9317711922811854,\n",
            "    'negative_predictive_value': 0.8631163308696973,\n",
            "    'positive_predictive_value': 0.308411214953271,\n",
            "    'precision': 0.308411214953271,\n",
            "    'recall': 0.06822880771881461,\n",
            "    'sensitivity': 0.06822880771881461,\n",
            "    'specificity': 0.974619869669601,\n",
            "    'true_negative_rate': 0.974619869669601,\n",
            "    'true_negatives': 8525,\n",
            "    'true_positive_rate': 0.06822880771881461,\n",
            "    'true_positives': 99},\n",
            "  Calendars: {   'accuracy': 0.8434006667974112,\n",
            "    'f1_score': 0.19627579265223954,\n",
            "    'fall_out': 0.014421385860007074,\n",
            "    'false_discovery_rate': 0.3867924528301887,\n",
            "    'false_negative_rate': 0.8831635710005992,\n",
            "    'false_negatives': 1474,\n",
            "    'false_omission_rate': 0.14919028340080975,\n",
            "    'false_positive_rate': 0.014421385860007074,\n",
            "    'false_positives': 123,\n",
            "    'hit_rate': 0.11683642899940083,\n",
            "    'informedness': 0.10241504313939376,\n",
            "    'markedness': 0.46401726376900143,\n",
            "    'matthews_correlation_coefficient': 0.21799621117424445,\n",
            "    'miss_rate': 0.8831635710005992,\n",
            "    'negative_predictive_value': 0.8508097165991902,\n",
            "    'positive_predictive_value': 0.6132075471698113,\n",
            "    'precision': 0.6132075471698113,\n",
            "    'recall': 0.11683642899940083,\n",
            "    'sensitivity': 0.11683642899940083,\n",
            "    'specificity': 0.9855786141399929,\n",
            "    'true_negative_rate': 0.9855786141399929,\n",
            "    'true_negatives': 8406,\n",
            "    'true_positive_rate': 0.11683642899940083,\n",
            "    'true_positives': 195},\n",
            "  Science Fiction & Fantasy: {   'accuracy': 0.9561678760541282,\n",
            "    'f1_score': 0.11485148514851486,\n",
            "    'fall_out': 0.027994401119776025,\n",
            "    'false_discovery_rate': 0.9061488673139159,\n",
            "    'false_negative_rate': 0.8520408163265306,\n",
            "    'false_negatives': 167,\n",
            "    'false_omission_rate': 0.016887450702801066,\n",
            "    'false_positive_rate': 0.027994401119776025,\n",
            "    'false_positives': 280,\n",
            "    'hit_rate': 0.14795918367346939,\n",
            "    'informedness': 0.11996478255369336,\n",
            "    'markedness': 0.07696368198328307,\n",
            "    'matthews_correlation_coefficient': 0.09608814377255998,\n",
            "    'miss_rate': 0.8520408163265306,\n",
            "    'negative_predictive_value': 0.9831125492971989,\n",
            "    'positive_predictive_value': 0.09385113268608414,\n",
            "    'precision': 0.09385113268608414,\n",
            "    'recall': 0.14795918367346939,\n",
            "    'sensitivity': 0.14795918367346939,\n",
            "    'specificity': 0.972005598880224,\n",
            "    'true_negative_rate': 0.972005598880224,\n",
            "    'true_negatives': 9722,\n",
            "    'true_positive_rate': 0.14795918367346939,\n",
            "    'true_positives': 29},\n",
            "  Mystery, Thriller & Suspense: {   'accuracy': 0.9433222200431457,\n",
            "    'f1_score': 0.12158054711246201,\n",
            "    'fall_out': 0.030069859269008847,\n",
            "    'false_discovery_rate': 0.8813056379821959,\n",
            "    'false_negative_rate': 0.8753894080996885,\n",
            "    'false_negatives': 281,\n",
            "    'false_omission_rate': 0.028496095730656146,\n",
            "    'false_positive_rate': 0.030069859269008847,\n",
            "    'false_positives': 297,\n",
            "    'hit_rate': 0.12461059190031153,\n",
            "    'informedness': 0.09454073263130258,\n",
            "    'markedness': 0.09019826628714811,\n",
            "    'matthews_correlation_coefficient': 0.09234397748018172,\n",
            "    'miss_rate': 0.8753894080996885,\n",
            "    'negative_predictive_value': 0.9715039042693439,\n",
            "    'positive_predictive_value': 0.11869436201780416,\n",
            "    'precision': 0.11869436201780416,\n",
            "    'recall': 0.12461059190031153,\n",
            "    'sensitivity': 0.12461059190031153,\n",
            "    'specificity': 0.9699301407309912,\n",
            "    'true_negative_rate': 0.9699301407309912,\n",
            "    'true_negatives': 9580,\n",
            "    'true_positive_rate': 0.12461059190031153,\n",
            "    'true_positives': 40},\n",
            "  Biographies & Memoirs: {   'accuracy': 0.8951755246126691,\n",
            "    'f1_score': 0.09329940627650551,\n",
            "    'fall_out': 0.03210666666666662,\n",
            "    'false_discovery_rate': 0.8455056179775281,\n",
            "    'false_negative_rate': 0.9331713244228432,\n",
            "    'false_negatives': 768,\n",
            "    'false_omission_rate': 0.0780329201381833,\n",
            "    'false_positive_rate': 0.03210666666666662,\n",
            "    'false_positives': 301,\n",
            "    'hit_rate': 0.06682867557715674,\n",
            "    'informedness': 0.03472200891049004,\n",
            "    'markedness': 0.0764614618842887,\n",
            "    'matthews_correlation_coefficient': 0.05152567865497131,\n",
            "    'miss_rate': 0.9331713244228432,\n",
            "    'negative_predictive_value': 0.9219670798618167,\n",
            "    'positive_predictive_value': 0.1544943820224719,\n",
            "    'precision': 0.1544943820224719,\n",
            "    'recall': 0.06682867557715674,\n",
            "    'sensitivity': 0.06682867557715674,\n",
            "    'specificity': 0.9678933333333334,\n",
            "    'true_negative_rate': 0.9678933333333334,\n",
            "    'true_negatives': 9074,\n",
            "    'true_positive_rate': 0.06682867557715674,\n",
            "    'true_positives': 55}}\n",
            "\n",
            "Finished: experiment_run\n",
            "Saved to: results/experiment_run_0\n"
          ],
          "name": "stdout"
        }
      ]
    },
    {
      "metadata": {
        "id": "21q0EGuO5dpd",
        "colab_type": "text"
      },
      "cell_type": "markdown",
      "source": [
        ""
      ]
    },
    {
      "metadata": {
        "id": "0ExRA9v55cr6",
        "colab_type": "code",
        "colab": {}
      },
      "cell_type": "code",
      "source": [
        ""
      ],
      "execution_count": 0,
      "outputs": []
    },
    {
      "metadata": {
        "id": "ggjuE4es7SDH",
        "colab_type": "text"
      },
      "cell_type": "markdown",
      "source": [
        "## GCP AutoML\n",
        "\n",
        "\n",
        "\n",
        "\n"
      ]
    },
    {
      "metadata": {
        "id": "ydR9SXDKAXvk",
        "colab_type": "text"
      },
      "cell_type": "markdown",
      "source": [
        "![GCP AutoML](https://user-images.githubusercontent.com/58792/45260264-134c4800-b397-11e8-9832-fd56a8eeaa3c.png)\n",
        "\n",
        "\n",
        "**[GCP AutoML Products](https://cloud.google.com/automl/)**\n",
        "\n",
        "*  [AutoML Vision](https://cloud.google.com/vision/automl/docs/)\n",
        "*  [AutoML Natural Language](https://cloud.google.com/natural-language/automl/docs/)\n",
        "*  [AutoML Translation](https://cloud.google.com/translate/automl/docs/)\n"
      ]
    },
    {
      "metadata": {
        "id": "QYU7DysIifKH",
        "colab_type": "text"
      },
      "cell_type": "markdown",
      "source": [
        "### GCP AutoML Demo\n"
      ]
    },
    {
      "metadata": {
        "id": "MAtZVZgRin7e",
        "colab_type": "text"
      },
      "cell_type": "markdown",
      "source": [
        "Training to recognize flowers\n",
        "\n",
        "![upload_data](https://user-images.githubusercontent.com/58792/45438280-94dbf880-b66b-11e8-850d-e7d2a32c45c8.png)\n",
        "\n",
        "![train](https://user-images.githubusercontent.com/58792/45438281-94dbf880-b66b-11e8-9951-80202c581b0c.png)\n",
        "\n",
        "![predict](https://user-images.githubusercontent.com/58792/45439236-1fbdf280-b66e-11e8-9f51-d92d26a63c64.png)"
      ]
    },
    {
      "metadata": {
        "id": "tBbAdZspTRGW",
        "colab_type": "text"
      },
      "cell_type": "markdown",
      "source": [
        "## References\n"
      ]
    },
    {
      "metadata": {
        "id": "PjOc_DzTTU8v",
        "colab_type": "text"
      },
      "cell_type": "markdown",
      "source": [
        "\n",
        "\n",
        "*   [Google Machine Learning Crash Course](https://developers.google.com/machine-learning/crash-course/)\n",
        "*   List item\n",
        "\n"
      ]
    },
    {
      "metadata": {
        "id": "AiFKjr0FTaDC",
        "colab_type": "code",
        "colab": {}
      },
      "cell_type": "code",
      "source": [
        ""
      ],
      "execution_count": 0,
      "outputs": []
    }
  ]
}